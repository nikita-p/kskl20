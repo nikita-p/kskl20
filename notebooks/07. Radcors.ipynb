{
 "cells": [
  {
   "cell_type": "code",
   "execution_count": 12,
   "metadata": {},
   "outputs": [],
   "source": [
    "import numpy as np\n",
    "import pandas as pd\n",
    "import matplotlib.pyplot as plt\n",
    "import pylib.style as pys\n",
    "import os.path\n",
    "\n",
    "%matplotlib inline"
   ]
  },
  {
   "cell_type": "markdown",
   "metadata": {},
   "source": [
    "## Получаю данные"
   ]
  },
  {
   "cell_type": "code",
   "execution_count": 2,
   "metadata": {},
   "outputs": [],
   "source": [
    "SEASON = 19"
   ]
  },
  {
   "cell_type": "code",
   "execution_count": 3,
   "metadata": {},
   "outputs": [],
   "source": [
    "df_signal = pd.read_csv(f'../data/{SEASON}/results/signal.csv', index_col=0)\n",
    "df_reg_eff = pd.read_csv(f'../data/{SEASON}/results/reg_eff.csv', index_col=0)\n",
    "df_triggers = pd.read_csv(f'../data/{SEASON}/results/triggers.csv', index_col=0)\n",
    "df_lum = pd.read_csv(f'/storeA/ryzhenenkov/lum20{SEASON}.dat', sep='\\t', names=['energy', 'lum', 'lum_err'], index_col='energy')"
   ]
  },
  {
   "cell_type": "code",
   "execution_count": 4,
   "metadata": {},
   "outputs": [],
   "source": [
    "df = pd.concat([df_signal, df_reg_eff, df_triggers, df_lum], axis=1)"
   ]
  },
  {
   "cell_type": "markdown",
   "metadata": {},
   "source": [
    "Определяю проблемные точки, пока удаляю их, но нужно присмотреться"
   ]
  },
  {
   "cell_type": "code",
   "execution_count": 5,
   "metadata": {},
   "outputs": [
    {
     "data": {
      "text/html": [
       "<div>\n",
       "<style scoped>\n",
       "    .dataframe tbody tr th:only-of-type {\n",
       "        vertical-align: middle;\n",
       "    }\n",
       "\n",
       "    .dataframe tbody tr th {\n",
       "        vertical-align: top;\n",
       "    }\n",
       "\n",
       "    .dataframe thead th {\n",
       "        text-align: right;\n",
       "    }\n",
       "</style>\n",
       "<table border=\"1\" class=\"dataframe\">\n",
       "  <thead>\n",
       "    <tr style=\"text-align: right;\">\n",
       "      <th></th>\n",
       "      <th>n_sig_exp</th>\n",
       "      <th>n_bkg_exp</th>\n",
       "      <th>m_exp</th>\n",
       "      <th>sL_exp</th>\n",
       "      <th>sR_exp</th>\n",
       "      <th>aL_exp</th>\n",
       "      <th>aR_exp</th>\n",
       "      <th>k_exp</th>\n",
       "      <th>n_sig_exp_err</th>\n",
       "      <th>n_bkg_exp_err</th>\n",
       "      <th>...</th>\n",
       "      <th>CF</th>\n",
       "      <th>TC</th>\n",
       "      <th>effT</th>\n",
       "      <th>effC</th>\n",
       "      <th>effT_err</th>\n",
       "      <th>effC_err</th>\n",
       "      <th>eff_trig</th>\n",
       "      <th>eff_trig_err</th>\n",
       "      <th>lum</th>\n",
       "      <th>lum_err</th>\n",
       "    </tr>\n",
       "  </thead>\n",
       "  <tbody>\n",
       "    <tr>\n",
       "      <th>550.1</th>\n",
       "      <td>NaN</td>\n",
       "      <td>NaN</td>\n",
       "      <td>NaN</td>\n",
       "      <td>NaN</td>\n",
       "      <td>NaN</td>\n",
       "      <td>NaN</td>\n",
       "      <td>NaN</td>\n",
       "      <td>NaN</td>\n",
       "      <td>NaN</td>\n",
       "      <td>NaN</td>\n",
       "      <td>...</td>\n",
       "      <td>NaN</td>\n",
       "      <td>NaN</td>\n",
       "      <td>NaN</td>\n",
       "      <td>NaN</td>\n",
       "      <td>NaN</td>\n",
       "      <td>NaN</td>\n",
       "      <td>NaN</td>\n",
       "      <td>NaN</td>\n",
       "      <td>496.833</td>\n",
       "      <td>1.14065</td>\n",
       "    </tr>\n",
       "    <tr>\n",
       "      <th>612.5</th>\n",
       "      <td>187.720811</td>\n",
       "      <td>31.279226</td>\n",
       "      <td>-0.142439</td>\n",
       "      <td>2.40781</td>\n",
       "      <td>2.439979</td>\n",
       "      <td>0.089821</td>\n",
       "      <td>0.156136</td>\n",
       "      <td>0.068587</td>\n",
       "      <td>12.213822</td>\n",
       "      <td>8.420231</td>\n",
       "      <td>...</td>\n",
       "      <td>7.0</td>\n",
       "      <td>196.0</td>\n",
       "      <td>0.960976</td>\n",
       "      <td>0.920561</td>\n",
       "      <td>0.013492</td>\n",
       "      <td>0.018443</td>\n",
       "      <td>0.9969</td>\n",
       "      <td>0.001291</td>\n",
       "      <td>1059.040</td>\n",
       "      <td>1.86299</td>\n",
       "    </tr>\n",
       "    <tr>\n",
       "      <th>612.6</th>\n",
       "      <td>NaN</td>\n",
       "      <td>NaN</td>\n",
       "      <td>NaN</td>\n",
       "      <td>NaN</td>\n",
       "      <td>NaN</td>\n",
       "      <td>NaN</td>\n",
       "      <td>NaN</td>\n",
       "      <td>NaN</td>\n",
       "      <td>NaN</td>\n",
       "      <td>NaN</td>\n",
       "      <td>...</td>\n",
       "      <td>NaN</td>\n",
       "      <td>NaN</td>\n",
       "      <td>NaN</td>\n",
       "      <td>NaN</td>\n",
       "      <td>NaN</td>\n",
       "      <td>NaN</td>\n",
       "      <td>NaN</td>\n",
       "      <td>NaN</td>\n",
       "      <td>1179.140</td>\n",
       "      <td>1.96537</td>\n",
       "    </tr>\n",
       "  </tbody>\n",
       "</table>\n",
       "<p>3 rows × 50 columns</p>\n",
       "</div>"
      ],
      "text/plain": [
       "        n_sig_exp  n_bkg_exp     m_exp   sL_exp    sR_exp    aL_exp    aR_exp  \\\n",
       "550.1         NaN        NaN       NaN      NaN       NaN       NaN       NaN   \n",
       "612.5  187.720811  31.279226 -0.142439  2.40781  2.439979  0.089821  0.156136   \n",
       "612.6         NaN        NaN       NaN      NaN       NaN       NaN       NaN   \n",
       "\n",
       "          k_exp  n_sig_exp_err  n_bkg_exp_err  ...   CF     TC      effT  \\\n",
       "550.1       NaN            NaN            NaN  ...  NaN    NaN       NaN   \n",
       "612.5  0.068587      12.213822       8.420231  ...  7.0  196.0  0.960976   \n",
       "612.6       NaN            NaN            NaN  ...  NaN    NaN       NaN   \n",
       "\n",
       "           effC  effT_err  effC_err  eff_trig  eff_trig_err       lum  lum_err  \n",
       "550.1       NaN       NaN       NaN       NaN           NaN   496.833  1.14065  \n",
       "612.5  0.920561  0.013492  0.018443    0.9969      0.001291  1059.040  1.86299  \n",
       "612.6       NaN       NaN       NaN       NaN           NaN  1179.140  1.96537  \n",
       "\n",
       "[3 rows x 50 columns]"
      ]
     },
     "execution_count": 5,
     "metadata": {},
     "output_type": "execute_result"
    }
   ],
   "source": [
    "df.loc[np.any(df.isna(), axis=1)]"
   ]
  },
  {
   "cell_type": "code",
   "execution_count": 6,
   "metadata": {},
   "outputs": [],
   "source": [
    "df.dropna(inplace=True)"
   ]
  },
  {
   "cell_type": "markdown",
   "metadata": {},
   "source": [
    "## Определить радпоправки"
   ]
  },
  {
   "cell_type": "code",
   "execution_count": 66,
   "metadata": {},
   "outputs": [],
   "source": [
    "def calc_cs_born(df):\n",
    "    cs_born = df['n_sig_exp']/(df['lum']*df['eff0']*df['eff_trig']*df['rad'])\n",
    "    cs_born_err = cs_born*np.sqrt( (df['n_sig_exp_err']/df['n_sig_exp'])**2 +\n",
    "        (df['lum_err']/df['lum'])**2 + (df['eff0_err']/df['eff0'])**2 + (df['eff_trig_err']/df['eff_trig'])**2)\n",
    "    return (cs_born, cs_born_err)"
   ]
  },
  {
   "cell_type": "code",
   "execution_count": 34,
   "metadata": {},
   "outputs": [],
   "source": [
    "from pylib.csapprox import MDVM\n",
    "from iminuit import Minuit, cost"
   ]
  },
  {
   "cell_type": "code",
   "execution_count": 35,
   "metadata": {},
   "outputs": [],
   "source": [
    "mdvm = MDVM()"
   ]
  },
  {
   "cell_type": "code",
   "execution_count": 210,
   "metadata": {},
   "outputs": [],
   "source": [
    "FILE_RADCOR = '../data/19/results/radcors.csv'\n",
    "df_rads = pd.read_csv(FILE_RADCOR, index_col=0) if os.path.isfile(FILE_RADCOR) else pd.DataFrame({'rad': 1, 'rad_err': 0}, index=df.index)"
   ]
  },
  {
   "cell_type": "code",
   "execution_count": 211,
   "metadata": {},
   "outputs": [
    {
     "data": {
      "text/html": [
       "<div>\n",
       "<style scoped>\n",
       "    .dataframe tbody tr th:only-of-type {\n",
       "        vertical-align: middle;\n",
       "    }\n",
       "\n",
       "    .dataframe tbody tr th {\n",
       "        vertical-align: top;\n",
       "    }\n",
       "\n",
       "    .dataframe thead th {\n",
       "        text-align: right;\n",
       "    }\n",
       "</style>\n",
       "<table border=\"1\" class=\"dataframe\">\n",
       "  <thead>\n",
       "    <tr style=\"text-align: right;\">\n",
       "      <th></th>\n",
       "      <th>rad</th>\n",
       "      <th>rad_errs</th>\n",
       "    </tr>\n",
       "  </thead>\n",
       "  <tbody>\n",
       "    <tr>\n",
       "      <th>537.5</th>\n",
       "      <td>0.895741</td>\n",
       "      <td>3.249332e-07</td>\n",
       "    </tr>\n",
       "    <tr>\n",
       "      <th>550.0</th>\n",
       "      <td>0.891109</td>\n",
       "      <td>1.284712e-05</td>\n",
       "    </tr>\n",
       "    <tr>\n",
       "      <th>550.1</th>\n",
       "      <td>0.896816</td>\n",
       "      <td>3.892619e-05</td>\n",
       "    </tr>\n",
       "    <tr>\n",
       "      <th>562.5</th>\n",
       "      <td>0.903311</td>\n",
       "      <td>7.534962e-05</td>\n",
       "    </tr>\n",
       "    <tr>\n",
       "      <th>575.0</th>\n",
       "      <td>0.904306</td>\n",
       "      <td>7.121021e-07</td>\n",
       "    </tr>\n",
       "  </tbody>\n",
       "</table>\n",
       "</div>"
      ],
      "text/plain": [
       "            rad      rad_errs\n",
       "537.5  0.895741  3.249332e-07\n",
       "550.0  0.891109  1.284712e-05\n",
       "550.1  0.896816  3.892619e-05\n",
       "562.5  0.903311  7.534962e-05\n",
       "575.0  0.904306  7.121021e-07"
      ]
     },
     "execution_count": 211,
     "metadata": {},
     "output_type": "execute_result"
    }
   ],
   "source": [
    "df_rads.head()"
   ]
  },
  {
   "cell_type": "code",
   "execution_count": 212,
   "metadata": {},
   "outputs": [],
   "source": [
    "df2 = df.join(df_rads)\n",
    "df_koz = pd.read_csv('../data/other/kskl_kozyrev.txt').rename({'E': 'emeas', 'cs': 'cs_born', 'cs_err': 'cs_born_err'}, axis=1)\n",
    "df_koz['emeas'] /= 2\n",
    "df2['cs_born'], df2['cs_born_err'] = calc_cs_born(df2)\n",
    "df2 = pd.concat([df_koz, df2[['emeas', 'rad', 'cs_born', 'cs_born_err']]])"
   ]
  },
  {
   "cell_type": "code",
   "execution_count": 213,
   "metadata": {},
   "outputs": [
    {
     "data": {
      "text/html": [
       "<div>\n",
       "<style scoped>\n",
       "    .dataframe tbody tr th:only-of-type {\n",
       "        vertical-align: middle;\n",
       "    }\n",
       "\n",
       "    .dataframe tbody tr th {\n",
       "        vertical-align: top;\n",
       "    }\n",
       "\n",
       "    .dataframe thead th {\n",
       "        text-align: right;\n",
       "    }\n",
       "</style>\n",
       "<table border=\"1\" class=\"dataframe\">\n",
       "  <thead>\n",
       "    <tr style=\"text-align: right;\">\n",
       "      <th></th>\n",
       "      <th>emeas</th>\n",
       "      <th>rad</th>\n",
       "      <th>cs_born</th>\n",
       "      <th>cs_born_err</th>\n",
       "    </tr>\n",
       "  </thead>\n",
       "  <tbody>\n",
       "    <tr>\n",
       "      <th>0.0</th>\n",
       "      <td>502.0330</td>\n",
       "      <td>0.72</td>\n",
       "      <td>6.87</td>\n",
       "      <td>0.42</td>\n",
       "    </tr>\n",
       "    <tr>\n",
       "      <th>1.0</th>\n",
       "      <td>505.2330</td>\n",
       "      <td>0.73</td>\n",
       "      <td>42.16</td>\n",
       "      <td>0.47</td>\n",
       "    </tr>\n",
       "    <tr>\n",
       "      <th>2.0</th>\n",
       "      <td>506.4775</td>\n",
       "      <td>0.72</td>\n",
       "      <td>96.74</td>\n",
       "      <td>1.00</td>\n",
       "    </tr>\n",
       "    <tr>\n",
       "      <th>3.0</th>\n",
       "      <td>507.5340</td>\n",
       "      <td>0.71</td>\n",
       "      <td>219.53</td>\n",
       "      <td>5.02</td>\n",
       "    </tr>\n",
       "    <tr>\n",
       "      <th>4.0</th>\n",
       "      <td>508.0525</td>\n",
       "      <td>0.71</td>\n",
       "      <td>366.33</td>\n",
       "      <td>3.33</td>\n",
       "    </tr>\n",
       "  </tbody>\n",
       "</table>\n",
       "</div>"
      ],
      "text/plain": [
       "        emeas   rad  cs_born  cs_born_err\n",
       "0.0  502.0330  0.72     6.87         0.42\n",
       "1.0  505.2330  0.73    42.16         0.47\n",
       "2.0  506.4775  0.72    96.74         1.00\n",
       "3.0  507.5340  0.71   219.53         5.02\n",
       "4.0  508.0525  0.71   366.33         3.33"
      ]
     },
     "execution_count": 213,
     "metadata": {},
     "output_type": "execute_result"
    }
   ],
   "source": [
    "df2.head()"
   ]
  },
  {
   "cell_type": "code",
   "execution_count": 214,
   "metadata": {},
   "outputs": [],
   "source": [
    "params = [0.9639, 1.0919, -0.0062, -0.0279, 1.0509, \n",
    "          -0.0674, 1740.0, 250.0, 1670.0, 315.0, 1680.0, \n",
    "          150.0, 2150.0, 315.0, 1470.0, 400.0, 1425.0, \n",
    "          225.0, 2239.0, 139.0, 1.3856, 0.0064, -0.2363, 0.01]"
   ]
  },
  {
   "cell_type": "code",
   "execution_count": 215,
   "metadata": {},
   "outputs": [],
   "source": [
    "m = Minuit(cost.LeastSquares(df2.emeas*2e-3, \n",
    "        df2.cs_born, df2.cs_born_err, lambda x, n, r1, r2, r3, p1, p2, mr3, wr3, mo2, wo2, mp1, wp1, mo3, wo3, mr1, wr1, mo1, wo1, a18, a19, a20, a21, a22, a23: \n",
    "        mdvm.Cross_Section_Neutral(x, [n, r1, r2, r3, p1, p2, mr3, wr3, mo2, wo2, mp1, wp1, mo3, wo3, mr1, wr1, mo1, wo1, a18, a19, a20, a21, a22, a23])), *params)"
   ]
  },
  {
   "cell_type": "code",
   "execution_count": 216,
   "metadata": {},
   "outputs": [],
   "source": [
    "m.fixed['mr3'], m.fixed['wr3'] = True, True\n",
    "m.fixed['mo2'], m.fixed['wo2'] = True, True\n",
    "m.fixed['mp1'], m.fixed['wp1'] = True, True\n",
    "m.fixed['mo3'], m.fixed['wo3'] = True, True\n",
    "m.fixed['mr1'], m.fixed['wr1'] = True, True\n",
    "m.fixed['mo1'], m.fixed['wo1'] = True, True"
   ]
  },
  {
   "cell_type": "code",
   "execution_count": 221,
   "metadata": {},
   "outputs": [
    {
     "data": {
      "text/html": [
       "<table>\n",
       "    <tr>\n",
       "        <td colspan=\"2\" style=\"text-align:left\" title=\"Minimum value of function\"> FCN = 128.5 </td>\n",
       "        <td colspan=\"3\" style=\"text-align:center\" title=\"No. of function evaluations in last call and total number\"> Nfcn = 4558 </td>\n",
       "    </tr>\n",
       "    <tr>\n",
       "        <td colspan=\"2\" style=\"text-align:left\" title=\"Estimated distance to minimum and goal\"> EDM = 0.0714 (Goal: 0.1) </td>\n",
       "        <td colspan=\"3\" style=\"text-align:center\" title=\"No. of gradient evaluations in last call and total number\">  </td>\n",
       "    </tr>\n",
       "    <tr>\n",
       "        <td style=\"text-align:center;background-color:#92CCA6;color:black\"> Valid Minimum </td>\n",
       "        <td style=\"text-align:center;background-color:#92CCA6;color:black\"> Valid Parameters </td>\n",
       "        <td colspan=\"3\" style=\"text-align:center;background-color:#92CCA6;color:black\"> No Parameters at limit </td>\n",
       "    </tr>\n",
       "    <tr>\n",
       "        <td colspan=\"2\" style=\"text-align:center;background-color:#92CCA6;color:black\"> Below EDM threshold (goal x 10) </td>\n",
       "        <td colspan=\"3\" style=\"text-align:center;background-color:#92CCA6;color:black\"> Below call limit </td>\n",
       "    </tr>\n",
       "    <tr>\n",
       "        <td style=\"text-align:center;background-color:#FFF79A;color:black\"> NO Covariance </td>\n",
       "        <td style=\"text-align:center;background-color:#92CCA6;color:black\"> Hesse ok </td>\n",
       "        <td style=\"text-align:center;background-color:#FFF79A;color:black\" title=\"Is covariance matrix accurate?\"> APPROXIMATE </td>\n",
       "        <td style=\"text-align:center;background-color:#c15ef7;color:black\" title=\"Is covariance matrix positive definite?\"> NOT pos. def. </td>\n",
       "        <td style=\"text-align:center;background-color:#92CCA6;color:black\" title=\"Was positive definiteness enforced by Minuit?\"> Not forced </td>\n",
       "    </tr>\n",
       "</table><table>\n",
       "    <tr>\n",
       "        <td></td>\n",
       "        <th title=\"Variable name\"> Name </th>\n",
       "        <th title=\"Value of parameter\"> Value </th>\n",
       "        <th title=\"Hesse error\"> Hesse Error </th>\n",
       "        <th title=\"Minos lower error\"> Minos Error- </th>\n",
       "        <th title=\"Minos upper error\"> Minos Error+ </th>\n",
       "        <th title=\"Lower limit of the parameter\"> Limit- </th>\n",
       "        <th title=\"Upper limit of the parameter\"> Limit+ </th>\n",
       "        <th title=\"Is the parameter fixed in the fit\"> Fixed </th>\n",
       "    </tr>\n",
       "    <tr>\n",
       "        <th> 0 </th>\n",
       "        <td> n </td>\n",
       "        <td> 919.8e-3 </td>\n",
       "        <td> 0.8e-3 </td>\n",
       "        <td>  </td>\n",
       "        <td>  </td>\n",
       "        <td>  </td>\n",
       "        <td>  </td>\n",
       "        <td>  </td>\n",
       "    </tr>\n",
       "    <tr>\n",
       "        <th> 1 </th>\n",
       "        <td> r1 </td>\n",
       "        <td> 1.1581 </td>\n",
       "        <td> 0.0004 </td>\n",
       "        <td>  </td>\n",
       "        <td>  </td>\n",
       "        <td>  </td>\n",
       "        <td>  </td>\n",
       "        <td>  </td>\n",
       "    </tr>\n",
       "    <tr>\n",
       "        <th> 2 </th>\n",
       "        <td> r2 </td>\n",
       "        <td> -214.1e-3 </td>\n",
       "        <td> 0.6e-3 </td>\n",
       "        <td>  </td>\n",
       "        <td>  </td>\n",
       "        <td>  </td>\n",
       "        <td>  </td>\n",
       "        <td>  </td>\n",
       "    </tr>\n",
       "    <tr>\n",
       "        <th> 3 </th>\n",
       "        <td> r3 </td>\n",
       "        <td> -1.83e-3 </td>\n",
       "        <td> 0.18e-3 </td>\n",
       "        <td>  </td>\n",
       "        <td>  </td>\n",
       "        <td>  </td>\n",
       "        <td>  </td>\n",
       "        <td>  </td>\n",
       "    </tr>\n",
       "    <tr>\n",
       "        <th> 4 </th>\n",
       "        <td> p1 </td>\n",
       "        <td> 1.1132 </td>\n",
       "        <td> 0.0010 </td>\n",
       "        <td>  </td>\n",
       "        <td>  </td>\n",
       "        <td>  </td>\n",
       "        <td>  </td>\n",
       "        <td>  </td>\n",
       "    </tr>\n",
       "    <tr>\n",
       "        <th> 5 </th>\n",
       "        <td> p2 </td>\n",
       "        <td> -139.93e-3 </td>\n",
       "        <td> 0.23e-3 </td>\n",
       "        <td>  </td>\n",
       "        <td>  </td>\n",
       "        <td>  </td>\n",
       "        <td>  </td>\n",
       "        <td>  </td>\n",
       "    </tr>\n",
       "    <tr>\n",
       "        <th> 6 </th>\n",
       "        <td> mr3 </td>\n",
       "        <td> 1.740e3 </td>\n",
       "        <td> 0.017e3 </td>\n",
       "        <td>  </td>\n",
       "        <td>  </td>\n",
       "        <td>  </td>\n",
       "        <td>  </td>\n",
       "        <td> yes </td>\n",
       "    </tr>\n",
       "    <tr>\n",
       "        <th> 7 </th>\n",
       "        <td> wr3 </td>\n",
       "        <td> 250.0 </td>\n",
       "        <td> 2.5 </td>\n",
       "        <td>  </td>\n",
       "        <td>  </td>\n",
       "        <td>  </td>\n",
       "        <td>  </td>\n",
       "        <td> yes </td>\n",
       "    </tr>\n",
       "    <tr>\n",
       "        <th> 8 </th>\n",
       "        <td> mo2 </td>\n",
       "        <td> 1.670e3 </td>\n",
       "        <td> 0.017e3 </td>\n",
       "        <td>  </td>\n",
       "        <td>  </td>\n",
       "        <td>  </td>\n",
       "        <td>  </td>\n",
       "        <td> yes </td>\n",
       "    </tr>\n",
       "    <tr>\n",
       "        <th> 9 </th>\n",
       "        <td> wo2 </td>\n",
       "        <td> 315.0 </td>\n",
       "        <td> 3.2 </td>\n",
       "        <td>  </td>\n",
       "        <td>  </td>\n",
       "        <td>  </td>\n",
       "        <td>  </td>\n",
       "        <td> yes </td>\n",
       "    </tr>\n",
       "    <tr>\n",
       "        <th> 10 </th>\n",
       "        <td> mp1 </td>\n",
       "        <td> 1.680e3 </td>\n",
       "        <td> 0.017e3 </td>\n",
       "        <td>  </td>\n",
       "        <td>  </td>\n",
       "        <td>  </td>\n",
       "        <td>  </td>\n",
       "        <td> yes </td>\n",
       "    </tr>\n",
       "    <tr>\n",
       "        <th> 11 </th>\n",
       "        <td> wp1 </td>\n",
       "        <td> 150.0 </td>\n",
       "        <td> 1.5 </td>\n",
       "        <td>  </td>\n",
       "        <td>  </td>\n",
       "        <td>  </td>\n",
       "        <td>  </td>\n",
       "        <td> yes </td>\n",
       "    </tr>\n",
       "    <tr>\n",
       "        <th> 12 </th>\n",
       "        <td> mo3 </td>\n",
       "        <td> 2.150e3 </td>\n",
       "        <td> 0.021e3 </td>\n",
       "        <td>  </td>\n",
       "        <td>  </td>\n",
       "        <td>  </td>\n",
       "        <td>  </td>\n",
       "        <td> yes </td>\n",
       "    </tr>\n",
       "    <tr>\n",
       "        <th> 13 </th>\n",
       "        <td> wo3 </td>\n",
       "        <td> 315.0 </td>\n",
       "        <td> 3.2 </td>\n",
       "        <td>  </td>\n",
       "        <td>  </td>\n",
       "        <td>  </td>\n",
       "        <td>  </td>\n",
       "        <td> yes </td>\n",
       "    </tr>\n",
       "    <tr>\n",
       "        <th> 14 </th>\n",
       "        <td> mr1 </td>\n",
       "        <td> 1.470e3 </td>\n",
       "        <td> 0.015e3 </td>\n",
       "        <td>  </td>\n",
       "        <td>  </td>\n",
       "        <td>  </td>\n",
       "        <td>  </td>\n",
       "        <td> yes </td>\n",
       "    </tr>\n",
       "    <tr>\n",
       "        <th> 15 </th>\n",
       "        <td> wr1 </td>\n",
       "        <td> 400 </td>\n",
       "        <td> 4 </td>\n",
       "        <td>  </td>\n",
       "        <td>  </td>\n",
       "        <td>  </td>\n",
       "        <td>  </td>\n",
       "        <td> yes </td>\n",
       "    </tr>\n",
       "    <tr>\n",
       "        <th> 16 </th>\n",
       "        <td> mo1 </td>\n",
       "        <td> 1.425e3 </td>\n",
       "        <td> 0.014e3 </td>\n",
       "        <td>  </td>\n",
       "        <td>  </td>\n",
       "        <td>  </td>\n",
       "        <td>  </td>\n",
       "        <td> yes </td>\n",
       "    </tr>\n",
       "    <tr>\n",
       "        <th> 17 </th>\n",
       "        <td> wo1 </td>\n",
       "        <td> 225.0 </td>\n",
       "        <td> 2.3 </td>\n",
       "        <td>  </td>\n",
       "        <td>  </td>\n",
       "        <td>  </td>\n",
       "        <td>  </td>\n",
       "        <td> yes </td>\n",
       "    </tr>\n",
       "    <tr>\n",
       "        <th> 18 </th>\n",
       "        <td> a18 </td>\n",
       "        <td> 2.2759e3 </td>\n",
       "        <td> 0.0008e3 </td>\n",
       "        <td>  </td>\n",
       "        <td>  </td>\n",
       "        <td>  </td>\n",
       "        <td>  </td>\n",
       "        <td>  </td>\n",
       "    </tr>\n",
       "    <tr>\n",
       "        <th> 19 </th>\n",
       "        <td> a19 </td>\n",
       "        <td> 507 </td>\n",
       "        <td> 4 </td>\n",
       "        <td>  </td>\n",
       "        <td>  </td>\n",
       "        <td>  </td>\n",
       "        <td>  </td>\n",
       "        <td>  </td>\n",
       "    </tr>\n",
       "    <tr>\n",
       "        <th> 20 </th>\n",
       "        <td> a20 </td>\n",
       "        <td> 1.5102 </td>\n",
       "        <td> 0.0024 </td>\n",
       "        <td>  </td>\n",
       "        <td>  </td>\n",
       "        <td>  </td>\n",
       "        <td>  </td>\n",
       "        <td>  </td>\n",
       "    </tr>\n",
       "    <tr>\n",
       "        <th> 21 </th>\n",
       "        <td> a21 </td>\n",
       "        <td> -0.3865 </td>\n",
       "        <td> 0.0011 </td>\n",
       "        <td>  </td>\n",
       "        <td>  </td>\n",
       "        <td>  </td>\n",
       "        <td>  </td>\n",
       "        <td>  </td>\n",
       "    </tr>\n",
       "    <tr>\n",
       "        <th> 22 </th>\n",
       "        <td> a22 </td>\n",
       "        <td> 0.1091 </td>\n",
       "        <td> 0.0015 </td>\n",
       "        <td>  </td>\n",
       "        <td>  </td>\n",
       "        <td>  </td>\n",
       "        <td>  </td>\n",
       "        <td>  </td>\n",
       "    </tr>\n",
       "    <tr>\n",
       "        <th> 23 </th>\n",
       "        <td> a23 </td>\n",
       "        <td> 1.033 </td>\n",
       "        <td> 0.007 </td>\n",
       "        <td>  </td>\n",
       "        <td>  </td>\n",
       "        <td>  </td>\n",
       "        <td>  </td>\n",
       "        <td>  </td>\n",
       "    </tr>\n",
       "</table>"
      ],
      "text/plain": [
       "┌──────────────────────────────────┬──────────────────────────────────────┐\n",
       "│ FCN = 128.5                      │             Nfcn = 4558              │\n",
       "│ EDM = 0.0714 (Goal: 0.1)         │                                      │\n",
       "├───────────────┬──────────────────┼──────────────────────────────────────┤\n",
       "│ Valid Minimum │ Valid Parameters │        No Parameters at limit        │\n",
       "├───────────────┴──────────────────┼──────────────────────────────────────┤\n",
       "│ Below EDM threshold (goal x 10)  │           Below call limit           │\n",
       "├───────────────┬──────────────────┼───────────┬─────────────┬────────────┤\n",
       "│ NO Covariance │     Hesse ok     │APPROXIMATE│NOT pos. def.│ Not forced │\n",
       "└───────────────┴──────────────────┴───────────┴─────────────┴────────────┘\n",
       "┌───┬──────┬───────────┬───────────┬────────────┬────────────┬─────────┬─────────┬───────┐\n",
       "│   │ Name │   Value   │ Hesse Err │ Minos Err- │ Minos Err+ │ Limit-  │ Limit+  │ Fixed │\n",
       "├───┼──────┼───────────┼───────────┼────────────┼────────────┼─────────┼─────────┼───────┤\n",
       "│ 0 │ n    │ 919.8e-3  │  0.8e-3   │            │            │         │         │       │\n",
       "│ 1 │ r1   │  1.1581   │  0.0004   │            │            │         │         │       │\n",
       "│ 2 │ r2   │ -214.1e-3 │  0.6e-3   │            │            │         │         │       │\n",
       "│ 3 │ r3   │ -1.83e-3  │  0.18e-3  │            │            │         │         │       │\n",
       "│ 4 │ p1   │  1.1132   │  0.0010   │            │            │         │         │       │\n",
       "│ 5 │ p2   │-139.93e-3 │  0.23e-3  │            │            │         │         │       │\n",
       "│ 6 │ mr3  │  1.740e3  │  0.017e3  │            │            │         │         │  yes  │\n",
       "│ 7 │ wr3  │   250.0   │    2.5    │            │            │         │         │  yes  │\n",
       "│ 8 │ mo2  │  1.670e3  │  0.017e3  │            │            │         │         │  yes  │\n",
       "│ 9 │ wo2  │   315.0   │    3.2    │            │            │         │         │  yes  │\n",
       "│ 10│ mp1  │  1.680e3  │  0.017e3  │            │            │         │         │  yes  │\n",
       "│ 11│ wp1  │   150.0   │    1.5    │            │            │         │         │  yes  │\n",
       "│ 12│ mo3  │  2.150e3  │  0.021e3  │            │            │         │         │  yes  │\n",
       "│ 13│ wo3  │   315.0   │    3.2    │            │            │         │         │  yes  │\n",
       "│ 14│ mr1  │  1.470e3  │  0.015e3  │            │            │         │         │  yes  │\n",
       "│ 15│ wr1  │    400    │     4     │            │            │         │         │  yes  │\n",
       "│ 16│ mo1  │  1.425e3  │  0.014e3  │            │            │         │         │  yes  │\n",
       "│ 17│ wo1  │   225.0   │    2.3    │            │            │         │         │  yes  │\n",
       "│ 18│ a18  │ 2.2759e3  │ 0.0008e3  │            │            │         │         │       │\n",
       "│ 19│ a19  │    507    │     4     │            │            │         │         │       │\n",
       "│ 20│ a20  │  1.5102   │  0.0024   │            │            │         │         │       │\n",
       "│ 21│ a21  │  -0.3865  │  0.0011   │            │            │         │         │       │\n",
       "│ 22│ a22  │  0.1091   │  0.0015   │            │            │         │         │       │\n",
       "│ 23│ a23  │   1.033   │   0.007   │            │            │         │         │       │\n",
       "└───┴──────┴───────────┴───────────┴────────────┴────────────┴─────────┴─────────┴───────┘"
      ]
     },
     "execution_count": 221,
     "metadata": {},
     "output_type": "execute_result"
    }
   ],
   "source": [
    "m.simplex()#.migrad()"
   ]
  },
  {
   "cell_type": "code",
   "execution_count": 222,
   "metadata": {},
   "outputs": [
    {
     "data": {
      "image/png": "[encoded data removed]",
      "text/plain": [
       "<Figure size 432x288 with 1 Axes>"
      ]
     },
     "metadata": {
      "needs_background": "light"
     },
     "output_type": "display_data"
    }
   ],
   "source": [
    "xx = np.linspace(df2.emeas.min()*2e-3, df2.emeas.max()*2e-3, 200)\n",
    "yy = mdvm.Cross_Section_Neutral(xx, m.values)\n",
    "\n",
    "plt.errorbar(df2.emeas*2e-3, df2.cs_born, yerr=df2.cs_born_err, fmt='.', label=f'Measured cs', alpha=1, markersize=2, lw=1)\n",
    "plt.plot(xx, yy)\n",
    "pys.my_style(title='CS approx', xtitle='$\\sqrt{s}$, GeV', ytitle='$\\sigma$, nb',\n",
    "            ylim=(1e-2, None))\n",
    "plt.yscale('log')"
   ]
  },
  {
   "cell_type": "code",
   "execution_count": 223,
   "metadata": {},
   "outputs": [],
   "source": [
    "df_fit = pd.DataFrame({'emeas': xx, 'cs_born': yy})"
   ]
  },
  {
   "cell_type": "code",
   "execution_count": 224,
   "metadata": {},
   "outputs": [],
   "source": [
    "from pylib.radcors import RadCor\n",
    "from pylib.regeff import RegEff"
   ]
  },
  {
   "cell_type": "code",
   "execution_count": 225,
   "metadata": {},
   "outputs": [],
   "source": [
    "r = RadCor(df_fit.emeas*0.5e3, df_fit.cs_born)"
   ]
  },
  {
   "cell_type": "code",
   "execution_count": 226,
   "metadata": {},
   "outputs": [],
   "source": [
    "ens, rads, rads_errs = [], [], []\n",
    "for i, j in df_reg_eff.iterrows():\n",
    "    rad, rad_err = r.F_Radcor(i, j[:4])/RegEff.sigFunc(0, *j[:4])\n",
    "    ens.append(i)\n",
    "    rads.append(rad)\n",
    "    rads_errs.append(rad_err)\n",
    "ser_rads = pd.Series(rads, index=ens, name='rad')\n",
    "ser_rads_errs = pd.Series(rads_errs, index=ens, name='rad_errs')"
   ]
  },
  {
   "cell_type": "code",
   "execution_count": 231,
   "metadata": {},
   "outputs": [
    {
     "data": {
      "image/png": "[encoded data removed]",
      "text/plain": [
       "<Figure size 432x288 with 1 Axes>"
      ]
     },
     "metadata": {
      "needs_background": "light"
     },
     "output_type": "display_data"
    }
   ],
   "source": [
    "plt.errorbar(ens, rads, fmt='.', label='New')\n",
    "plt.errorbar(df_rads.index, df_rads.rad, fmt='.', label='Last')\n",
    "plt.legend()\n",
    "pys.my_style()\n",
    "plt.ylim(0.6, 1.25);"
   ]
  },
  {
   "cell_type": "code",
   "execution_count": 232,
   "metadata": {},
   "outputs": [],
   "source": [
    "df_rads = pd.DataFrame([ser_rads, ser_rads_errs]).T"
   ]
  },
  {
   "cell_type": "code",
   "execution_count": 233,
   "metadata": {},
   "outputs": [],
   "source": [
    "df_rads.to_csv(FILE_RADCOR)"
   ]
  },
  {
   "cell_type": "markdown",
   "metadata": {},
   "source": [
    "## Рисовать сечения"
   ]
  },
  {
   "cell_type": "code",
   "execution_count": 235,
   "metadata": {},
   "outputs": [],
   "source": [
    "df_signal = pd.read_csv(f'../data/{SEASON}/results/signal.csv', index_col=0)\n",
    "df_reg_eff = pd.read_csv(f'../data/{SEASON}/results/reg_eff.csv', index_col=0)\n",
    "df_triggers = pd.read_csv(f'../data/{SEASON}/results/triggers.csv', index_col=0)\n",
    "df_lum = pd.read_csv(f'/storeA/ryzhenenkov/lum20{SEASON}.dat', sep='\\t', names=['energy', 'lum', 'lum_err'], index_col='energy')\n",
    "df_rads = pd.read_csv(f'../data/{SEASON}/results/radcors.csv', index_col=0)"
   ]
  },
  {
   "cell_type": "code",
   "execution_count": 246,
   "metadata": {},
   "outputs": [],
   "source": [
    "df = pd.concat([df_signal, df_reg_eff, df_triggers, df_lum, df_rads], axis=1).dropna()\n",
    "df['cs_born'], df['cs_born_err'] = calc_cs_born(df)"
   ]
  },
  {
   "cell_type": "code",
   "execution_count": 266,
   "metadata": {},
   "outputs": [],
   "source": [
    "df2 = pd.read_csv('images/res12_new.csv', index_col=0)\n",
    "df2['cs_born'] = df2['n_sig_exp']/(df2['lum']*df2['eff_reg']*df2['eff_trig']*df2['rad'])\n",
    "df2['cs_born_err'] = df2['cs_born']*np.sqrt( (df2['n_sig_exp_err']/df2['n_sig_exp'])**2 +\n",
    "        (df2['lum_err']/df2['lum'])**2 + (df2['eff_reg_err']/df2['eff_reg'])**2 + (df2['eff_trig_err']/df2['eff_trig'])**2)"
   ]
  },
  {
   "cell_type": "code",
   "execution_count": 267,
   "metadata": {},
   "outputs": [
    {
     "data": {
      "image/png": "[encoded data removed]",
      "text/plain": [
       "<Figure size 720x480 with 1 Axes>"
      ]
     },
     "metadata": {
      "needs_background": "light"
     },
     "output_type": "display_data"
    }
   ],
   "source": [
    "plt.figure(dpi=120)\n",
    "plt.errorbar(df.emeas, df.cs_born, yerr=df.cs_born_err, fmt='.')\n",
    "plt.errorbar(df2.emeas, df2.cs_born, yerr=df2.cs_born_err, fmt='.')\n",
    "plt.ylim(1e-3, None)\n",
    "plt.yscale('log')"
   ]
  }
 ],
 "metadata": {
  "kernelspec": {
   "display_name": "Python 3",
   "language": "python",
   "name": "python3"
  },
  "language_info": {
   "codemirror_mode": {
    "name": "ipython",
    "version": 3
   },
   "file_extension": ".py",
   "mimetype": "text/x-python",
   "name": "python",
   "nbconvert_exporter": "python",
   "pygments_lexer": "ipython3",
   "version": "3.7.9"
  }
 },
 "nbformat": 4,
 "nbformat_minor": 4
}
