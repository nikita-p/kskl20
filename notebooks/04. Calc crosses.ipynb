{
 "cells": [
  {
   "cell_type": "code",
   "execution_count": 2,
   "metadata": {},
   "outputs": [],
   "source": [
    "import numpy as np\n",
    "import pandas as pd\n",
    "import matplotlib.pyplot as plt\n",
    "\n",
    "%matplotlib inline"
   ]
  },
  {
   "cell_type": "code",
   "execution_count": 3,
   "metadata": {},
   "outputs": [],
   "source": [
    "SEASON = 12\n",
    "df = pd.read_csv(f'../data/{SEASON}/results/signal.csv', index_col=0)\n",
    "df_lum = pd.read_csv(f'/storeA/ryzhenenkov/lum20{SEASON}.dat', sep='\\t', names=['energy', 'lum', 'lum_err'], index_col='energy')\n",
    "df_triggers = pd.read_csv(f'../data/{SEASON}/results/triggers.csv', index_col=0)\n",
    "df = df.join(df_lum).join(df_triggers[['eff_trig', 'eff_trig_err']])\n",
    "df['n0_mc'] = 20000"
   ]
  },
  {
   "cell_type": "code",
   "execution_count": 4,
   "metadata": {},
   "outputs": [
    {
     "data": {
      "text/html": [
       "<div>\n",
       "<style scoped>\n",
       "    .dataframe tbody tr th:only-of-type {\n",
       "        vertical-align: middle;\n",
       "    }\n",
       "\n",
       "    .dataframe tbody tr th {\n",
       "        vertical-align: top;\n",
       "    }\n",
       "\n",
       "    .dataframe thead th {\n",
       "        text-align: right;\n",
       "    }\n",
       "</style>\n",
       "<table border=\"1\" class=\"dataframe\">\n",
       "  <thead>\n",
       "    <tr style=\"text-align: right;\">\n",
       "      <th></th>\n",
       "      <th>n_sig_exp</th>\n",
       "      <th>n_bkg_exp</th>\n",
       "      <th>m_exp</th>\n",
       "      <th>sL_exp</th>\n",
       "      <th>sR_exp</th>\n",
       "      <th>aL_exp</th>\n",
       "      <th>aR_exp</th>\n",
       "      <th>k_exp</th>\n",
       "      <th>n_sig_exp_err</th>\n",
       "      <th>n_bkg_exp_err</th>\n",
       "      <th>...</th>\n",
       "      <th>sL_mc_err</th>\n",
       "      <th>sR_mc_err</th>\n",
       "      <th>aL_mc_err</th>\n",
       "      <th>aR_mc_err</th>\n",
       "      <th>emeas</th>\n",
       "      <th>lum</th>\n",
       "      <th>lum_err</th>\n",
       "      <th>eff_trig</th>\n",
       "      <th>eff_trig_err</th>\n",
       "      <th>n0_mc</th>\n",
       "    </tr>\n",
       "  </thead>\n",
       "  <tbody>\n",
       "    <tr>\n",
       "      <th>640.0</th>\n",
       "      <td>110.179383</td>\n",
       "      <td>21.821007</td>\n",
       "      <td>1.224819</td>\n",
       "      <td>2.815781</td>\n",
       "      <td>1.992523</td>\n",
       "      <td>0.078871</td>\n",
       "      <td>0.152906</td>\n",
       "      <td>1.726345e-09</td>\n",
       "      <td>8.328471</td>\n",
       "      <td>4.987304</td>\n",
       "      <td>...</td>\n",
       "      <td>0.148076</td>\n",
       "      <td>0.175607</td>\n",
       "      <td>0.003170</td>\n",
       "      <td>0.006829</td>\n",
       "      <td>638.531128</td>\n",
       "      <td>720.300</td>\n",
       "      <td>1.61362</td>\n",
       "      <td>0.937659</td>\n",
       "      <td>0.034137</td>\n",
       "      <td>20000</td>\n",
       "    </tr>\n",
       "    <tr>\n",
       "      <th>680.0</th>\n",
       "      <td>93.836731</td>\n",
       "      <td>34.163301</td>\n",
       "      <td>0.940107</td>\n",
       "      <td>2.558189</td>\n",
       "      <td>2.972100</td>\n",
       "      <td>0.105672</td>\n",
       "      <td>0.127472</td>\n",
       "      <td>1.865809e-03</td>\n",
       "      <td>9.162935</td>\n",
       "      <td>7.349247</td>\n",
       "      <td>...</td>\n",
       "      <td>0.155850</td>\n",
       "      <td>0.232489</td>\n",
       "      <td>0.003194</td>\n",
       "      <td>0.008682</td>\n",
       "      <td>678.274841</td>\n",
       "      <td>843.291</td>\n",
       "      <td>1.85485</td>\n",
       "      <td>0.913611</td>\n",
       "      <td>0.040317</td>\n",
       "      <td>20000</td>\n",
       "    </tr>\n",
       "    <tr>\n",
       "      <th>720.0</th>\n",
       "      <td>58.979413</td>\n",
       "      <td>32.020617</td>\n",
       "      <td>0.327526</td>\n",
       "      <td>2.403623</td>\n",
       "      <td>2.160278</td>\n",
       "      <td>0.074885</td>\n",
       "      <td>0.123598</td>\n",
       "      <td>1.496575e-09</td>\n",
       "      <td>9.396211</td>\n",
       "      <td>8.647974</td>\n",
       "      <td>...</td>\n",
       "      <td>0.142963</td>\n",
       "      <td>0.161879</td>\n",
       "      <td>0.003326</td>\n",
       "      <td>0.005984</td>\n",
       "      <td>717.460205</td>\n",
       "      <td>915.812</td>\n",
       "      <td>2.04444</td>\n",
       "      <td>0.913779</td>\n",
       "      <td>0.046241</td>\n",
       "      <td>20000</td>\n",
       "    </tr>\n",
       "    <tr>\n",
       "      <th>760.0</th>\n",
       "      <td>96.764192</td>\n",
       "      <td>64.233000</td>\n",
       "      <td>-0.156750</td>\n",
       "      <td>2.710368</td>\n",
       "      <td>3.116148</td>\n",
       "      <td>0.078412</td>\n",
       "      <td>0.125290</td>\n",
       "      <td>3.750600e-10</td>\n",
       "      <td>8.654418</td>\n",
       "      <td>7.545921</td>\n",
       "      <td>...</td>\n",
       "      <td>0.088809</td>\n",
       "      <td>0.115463</td>\n",
       "      <td>0.002275</td>\n",
       "      <td>0.004426</td>\n",
       "      <td>757.306396</td>\n",
       "      <td>835.297</td>\n",
       "      <td>2.06166</td>\n",
       "      <td>0.958714</td>\n",
       "      <td>0.022999</td>\n",
       "      <td>20000</td>\n",
       "    </tr>\n",
       "    <tr>\n",
       "      <th>800.0</th>\n",
       "      <td>173.270563</td>\n",
       "      <td>5.729480</td>\n",
       "      <td>0.932010</td>\n",
       "      <td>2.479870</td>\n",
       "      <td>2.595294</td>\n",
       "      <td>0.088224</td>\n",
       "      <td>0.115597</td>\n",
       "      <td>1.110223e-14</td>\n",
       "      <td>9.848327</td>\n",
       "      <td>3.621353</td>\n",
       "      <td>...</td>\n",
       "      <td>0.079745</td>\n",
       "      <td>0.096534</td>\n",
       "      <td>0.001969</td>\n",
       "      <td>0.003621</td>\n",
       "      <td>797.500000</td>\n",
       "      <td>824.537</td>\n",
       "      <td>2.15717</td>\n",
       "      <td>0.982629</td>\n",
       "      <td>0.012067</td>\n",
       "      <td>20000</td>\n",
       "    </tr>\n",
       "  </tbody>\n",
       "</table>\n",
       "<p>5 rows × 34 columns</p>\n",
       "</div>"
      ],
      "text/plain": [
       "        n_sig_exp  n_bkg_exp     m_exp    sL_exp    sR_exp    aL_exp  \\\n",
       "640.0  110.179383  21.821007  1.224819  2.815781  1.992523  0.078871   \n",
       "680.0   93.836731  34.163301  0.940107  2.558189  2.972100  0.105672   \n",
       "720.0   58.979413  32.020617  0.327526  2.403623  2.160278  0.074885   \n",
       "760.0   96.764192  64.233000 -0.156750  2.710368  3.116148  0.078412   \n",
       "800.0  173.270563   5.729480  0.932010  2.479870  2.595294  0.088224   \n",
       "\n",
       "         aR_exp         k_exp  n_sig_exp_err  n_bkg_exp_err  ...  sL_mc_err  \\\n",
       "640.0  0.152906  1.726345e-09       8.328471       4.987304  ...   0.148076   \n",
       "680.0  0.127472  1.865809e-03       9.162935       7.349247  ...   0.155850   \n",
       "720.0  0.123598  1.496575e-09       9.396211       8.647974  ...   0.142963   \n",
       "760.0  0.125290  3.750600e-10       8.654418       7.545921  ...   0.088809   \n",
       "800.0  0.115597  1.110223e-14       9.848327       3.621353  ...   0.079745   \n",
       "\n",
       "       sR_mc_err  aL_mc_err  aR_mc_err       emeas      lum  lum_err  \\\n",
       "640.0   0.175607   0.003170   0.006829  638.531128  720.300  1.61362   \n",
       "680.0   0.232489   0.003194   0.008682  678.274841  843.291  1.85485   \n",
       "720.0   0.161879   0.003326   0.005984  717.460205  915.812  2.04444   \n",
       "760.0   0.115463   0.002275   0.004426  757.306396  835.297  2.06166   \n",
       "800.0   0.096534   0.001969   0.003621  797.500000  824.537  2.15717   \n",
       "\n",
       "       eff_trig  eff_trig_err  n0_mc  \n",
       "640.0  0.937659      0.034137  20000  \n",
       "680.0  0.913611      0.040317  20000  \n",
       "720.0  0.913779      0.046241  20000  \n",
       "760.0  0.958714      0.022999  20000  \n",
       "800.0  0.982629      0.012067  20000  \n",
       "\n",
       "[5 rows x 34 columns]"
      ]
     },
     "execution_count": 4,
     "metadata": {},
     "output_type": "execute_result"
    }
   ],
   "source": [
    "df.head()"
   ]
  },
  {
   "cell_type": "code",
   "execution_count": 4,
   "metadata": {},
   "outputs": [],
   "source": [
    "df['eff_reg'], df['eff_reg_err'] = df['n_sig_mc']/df['n0_mc'], df['n_sig_mc_err']/df['n0_mc']"
   ]
  },
  {
   "cell_type": "code",
   "execution_count": 5,
   "metadata": {},
   "outputs": [],
   "source": [
    "df['cs_vis'] = df['n_sig_exp']/(df['eff_reg']*df['eff_trig']*df['lum'])"
   ]
  },
  {
   "cell_type": "code",
   "execution_count": 6,
   "metadata": {},
   "outputs": [],
   "source": [
    "df_koz = pd.read_csv('images/kozyrev.txt')\n",
    "df_koz['emeas'] = df_koz['E']/2\n",
    "df_koz['cs_vis'] = df_koz['cs']*df_koz['rad']"
   ]
  },
  {
   "cell_type": "code",
   "execution_count": 7,
   "metadata": {},
   "outputs": [],
   "source": [
    "df_vis = pd.concat([df_koz[['emeas', 'cs_vis']], df[['emeas', 'cs_vis']]], ignore_index=True).sort_values(by='emeas')\n",
    "df_vis['rad'] = 1\n",
    "df_vis['cs_born'] = df_vis['cs_vis']/df_vis['rad']"
   ]
  },
  {
   "cell_type": "code",
   "execution_count": 8,
   "metadata": {},
   "outputs": [
    {
     "data": {
      "text/html": [
       "<div>\n",
       "<style scoped>\n",
       "    .dataframe tbody tr th:only-of-type {\n",
       "        vertical-align: middle;\n",
       "    }\n",
       "\n",
       "    .dataframe tbody tr th {\n",
       "        vertical-align: top;\n",
       "    }\n",
       "\n",
       "    .dataframe thead th {\n",
       "        text-align: right;\n",
       "    }\n",
       "</style>\n",
       "<table border=\"1\" class=\"dataframe\">\n",
       "  <thead>\n",
       "    <tr style=\"text-align: right;\">\n",
       "      <th></th>\n",
       "      <th>emeas</th>\n",
       "      <th>cs_vis</th>\n",
       "      <th>rad</th>\n",
       "      <th>cs_born</th>\n",
       "    </tr>\n",
       "  </thead>\n",
       "  <tbody>\n",
       "    <tr>\n",
       "      <th>0</th>\n",
       "      <td>502.0330</td>\n",
       "      <td>4.9464</td>\n",
       "      <td>1</td>\n",
       "      <td>4.9464</td>\n",
       "    </tr>\n",
       "    <tr>\n",
       "      <th>1</th>\n",
       "      <td>505.2330</td>\n",
       "      <td>30.7768</td>\n",
       "      <td>1</td>\n",
       "      <td>30.7768</td>\n",
       "    </tr>\n",
       "    <tr>\n",
       "      <th>2</th>\n",
       "      <td>506.4775</td>\n",
       "      <td>69.6528</td>\n",
       "      <td>1</td>\n",
       "      <td>69.6528</td>\n",
       "    </tr>\n",
       "    <tr>\n",
       "      <th>3</th>\n",
       "      <td>507.5340</td>\n",
       "      <td>155.8663</td>\n",
       "      <td>1</td>\n",
       "      <td>155.8663</td>\n",
       "    </tr>\n",
       "    <tr>\n",
       "      <th>4</th>\n",
       "      <td>508.0525</td>\n",
       "      <td>260.0943</td>\n",
       "      <td>1</td>\n",
       "      <td>260.0943</td>\n",
       "    </tr>\n",
       "  </tbody>\n",
       "</table>\n",
       "</div>"
      ],
      "text/plain": [
       "      emeas    cs_vis  rad   cs_born\n",
       "0  502.0330    4.9464    1    4.9464\n",
       "1  505.2330   30.7768    1   30.7768\n",
       "2  506.4775   69.6528    1   69.6528\n",
       "3  507.5340  155.8663    1  155.8663\n",
       "4  508.0525  260.0943    1  260.0943"
      ]
     },
     "execution_count": 8,
     "metadata": {},
     "output_type": "execute_result"
    }
   ],
   "source": [
    "df_vis.head()"
   ]
  },
  {
   "cell_type": "code",
   "execution_count": 9,
   "metadata": {},
   "outputs": [],
   "source": [
    "df_approx = pd.read_csv('../data/cross_sections_kskl.txt', sep=' ', index_col=0, names=['E', 'cs_born'])\n",
    "df_approx['emeas'] = df_approx['E']/2\n",
    "df_approx['rad'] = 1"
   ]
  },
  {
   "cell_type": "code",
   "execution_count": 10,
   "metadata": {},
   "outputs": [],
   "source": [
    "from scipy.interpolate import make_interp_spline"
   ]
  },
  {
   "cell_type": "code",
   "execution_count": 11,
   "metadata": {},
   "outputs": [
    {
     "data": {
      "text/html": [
       "<div>\n",
       "<style scoped>\n",
       "    .dataframe tbody tr th:only-of-type {\n",
       "        vertical-align: middle;\n",
       "    }\n",
       "\n",
       "    .dataframe tbody tr th {\n",
       "        vertical-align: top;\n",
       "    }\n",
       "\n",
       "    .dataframe thead th {\n",
       "        text-align: right;\n",
       "    }\n",
       "</style>\n",
       "<table border=\"1\" class=\"dataframe\">\n",
       "  <thead>\n",
       "    <tr style=\"text-align: right;\">\n",
       "      <th></th>\n",
       "      <th>E</th>\n",
       "      <th>cs_born</th>\n",
       "      <th>emeas</th>\n",
       "      <th>rad</th>\n",
       "    </tr>\n",
       "  </thead>\n",
       "  <tbody>\n",
       "    <tr>\n",
       "      <th>2</th>\n",
       "      <td>995.0</td>\n",
       "      <td>0.000000</td>\n",
       "      <td>497.5</td>\n",
       "      <td>1</td>\n",
       "    </tr>\n",
       "    <tr>\n",
       "      <th>3</th>\n",
       "      <td>996.0</td>\n",
       "      <td>0.067593</td>\n",
       "      <td>498.0</td>\n",
       "      <td>1</td>\n",
       "    </tr>\n",
       "    <tr>\n",
       "      <th>4</th>\n",
       "      <td>997.0</td>\n",
       "      <td>0.292279</td>\n",
       "      <td>498.5</td>\n",
       "      <td>1</td>\n",
       "    </tr>\n",
       "    <tr>\n",
       "      <th>5</th>\n",
       "      <td>998.0</td>\n",
       "      <td>0.642567</td>\n",
       "      <td>499.0</td>\n",
       "      <td>1</td>\n",
       "    </tr>\n",
       "    <tr>\n",
       "      <th>6</th>\n",
       "      <td>999.0</td>\n",
       "      <td>1.128050</td>\n",
       "      <td>499.5</td>\n",
       "      <td>1</td>\n",
       "    </tr>\n",
       "    <tr>\n",
       "      <th>...</th>\n",
       "      <td>...</td>\n",
       "      <td>...</td>\n",
       "      <td>...</td>\n",
       "      <td>...</td>\n",
       "    </tr>\n",
       "    <tr>\n",
       "      <th>545</th>\n",
       "      <td>2092.0</td>\n",
       "      <td>0.368000</td>\n",
       "      <td>1046.0</td>\n",
       "      <td>1</td>\n",
       "    </tr>\n",
       "    <tr>\n",
       "      <th>546</th>\n",
       "      <td>2094.0</td>\n",
       "      <td>0.381000</td>\n",
       "      <td>1047.0</td>\n",
       "      <td>1</td>\n",
       "    </tr>\n",
       "    <tr>\n",
       "      <th>547</th>\n",
       "      <td>2096.0</td>\n",
       "      <td>0.394000</td>\n",
       "      <td>1048.0</td>\n",
       "      <td>1</td>\n",
       "    </tr>\n",
       "    <tr>\n",
       "      <th>548</th>\n",
       "      <td>2098.0</td>\n",
       "      <td>0.409000</td>\n",
       "      <td>1049.0</td>\n",
       "      <td>1</td>\n",
       "    </tr>\n",
       "    <tr>\n",
       "      <th>549</th>\n",
       "      <td>2100.0</td>\n",
       "      <td>0.424000</td>\n",
       "      <td>1050.0</td>\n",
       "      <td>1</td>\n",
       "    </tr>\n",
       "  </tbody>\n",
       "</table>\n",
       "<p>555 rows × 4 columns</p>\n",
       "</div>"
      ],
      "text/plain": [
       "          E   cs_born   emeas  rad\n",
       "2     995.0  0.000000   497.5    1\n",
       "3     996.0  0.067593   498.0    1\n",
       "4     997.0  0.292279   498.5    1\n",
       "5     998.0  0.642567   499.0    1\n",
       "6     999.0  1.128050   499.5    1\n",
       "..      ...       ...     ...  ...\n",
       "545  2092.0  0.368000  1046.0    1\n",
       "546  2094.0  0.381000  1047.0    1\n",
       "547  2096.0  0.394000  1048.0    1\n",
       "548  2098.0  0.409000  1049.0    1\n",
       "549  2100.0  0.424000  1050.0    1\n",
       "\n",
       "[555 rows x 4 columns]"
      ]
     },
     "execution_count": 11,
     "metadata": {},
     "output_type": "execute_result"
    }
   ],
   "source": [
    "df_approx"
   ]
  },
  {
   "cell_type": "code",
   "execution_count": 12,
   "metadata": {},
   "outputs": [],
   "source": [
    "from pylib.radcors import RadCor"
   ]
  },
  {
   "cell_type": "code",
   "execution_count": 57,
   "metadata": {},
   "outputs": [
    {
     "name": "stdout",
     "output_type": "stream",
     "text": [
      "1\t"
     ]
    },
    {
     "name": "stderr",
     "output_type": "stream",
     "text": [
      "/spoolA/petrov/refac20/notebooks/pylib/radcors.py:66: IntegrationWarning: The occurrence of roundoff error is detected, which prevents \n",
      "  the requested tolerance from being achieved.  The error may be \n",
      "  underestimated.\n",
      "  0., Xmax, points=[0, 1], limit=50000, epsrel=0.0001)\n"
     ]
    },
    {
     "data": {
      "image/png": "[encoded data removed]",
      "text/plain": [
       "<Figure size 432x288 with 1 Axes>"
      ]
     },
     "metadata": {
      "needs_background": "light"
     },
     "output_type": "display_data"
    }
   ],
   "source": [
    "n_iter = 1\n",
    "for _ in range(n_iter):\n",
    "    print(_+1, end='\\t')\n",
    "    spl = make_interp_spline(df_approx.emeas, df_approx.cs_born, k=1)\n",
    "    e_interp = np.linspace(495, 1000, 3000) \n",
    "    cs_interp = spl(e_interp)\n",
    "    cs_interp = np.where(e_interp<497.6, 0, cs_interp)\n",
    "    cs_interp = np.where(cs_interp<0, 0, cs_interp)\n",
    "\n",
    "    r = RadCor(e_interp, cs_interp)\n",
    "\n",
    "    temp_rads = df_vis.rad.copy().astype('float')\n",
    "    for i, j in df_vis.iterrows():\n",
    "        temp_rads[i] = r.F_Radcor(j['emeas'])[0]\n",
    "    if (_==(n_iter-1)):\n",
    "        plt.plot(df_vis['emeas'], df_vis['rad']-temp_rads)\n",
    "    \n",
    "    df_vis['rad'] = temp_rads\n",
    "    df_vis['cs_born'] = df_vis['cs_vis']/df_vis['rad']"
   ]
  },
  {
   "cell_type": "code",
   "execution_count": 58,
   "metadata": {},
   "outputs": [
    {
     "data": {
      "text/html": [
       "<div>\n",
       "<style scoped>\n",
       "    .dataframe tbody tr th:only-of-type {\n",
       "        vertical-align: middle;\n",
       "    }\n",
       "\n",
       "    .dataframe tbody tr th {\n",
       "        vertical-align: top;\n",
       "    }\n",
       "\n",
       "    .dataframe thead th {\n",
       "        text-align: right;\n",
       "    }\n",
       "</style>\n",
       "<table border=\"1\" class=\"dataframe\">\n",
       "  <thead>\n",
       "    <tr style=\"text-align: right;\">\n",
       "      <th></th>\n",
       "      <th>emeas</th>\n",
       "      <th>cs_vis</th>\n",
       "      <th>rad</th>\n",
       "      <th>cs_born</th>\n",
       "    </tr>\n",
       "  </thead>\n",
       "  <tbody>\n",
       "    <tr>\n",
       "      <th>25</th>\n",
       "      <td>934.748108</td>\n",
       "      <td>0.443281</td>\n",
       "      <td>13.225681</td>\n",
       "      <td>0.033517</td>\n",
       "    </tr>\n",
       "    <tr>\n",
       "      <th>26</th>\n",
       "      <td>945.436157</td>\n",
       "      <td>0.328599</td>\n",
       "      <td>11.006297</td>\n",
       "      <td>0.029856</td>\n",
       "    </tr>\n",
       "    <tr>\n",
       "      <th>27</th>\n",
       "      <td>950.266357</td>\n",
       "      <td>0.499530</td>\n",
       "      <td>9.627165</td>\n",
       "      <td>0.051888</td>\n",
       "    </tr>\n",
       "    <tr>\n",
       "      <th>28</th>\n",
       "      <td>960.250549</td>\n",
       "      <td>0.381036</td>\n",
       "      <td>7.900114</td>\n",
       "      <td>0.048232</td>\n",
       "    </tr>\n",
       "    <tr>\n",
       "      <th>29</th>\n",
       "      <td>970.637634</td>\n",
       "      <td>0.300854</td>\n",
       "      <td>6.381915</td>\n",
       "      <td>0.047142</td>\n",
       "    </tr>\n",
       "  </tbody>\n",
       "</table>\n",
       "</div>"
      ],
      "text/plain": [
       "         emeas    cs_vis        rad   cs_born\n",
       "25  934.748108  0.443281  13.225681  0.033517\n",
       "26  945.436157  0.328599  11.006297  0.029856\n",
       "27  950.266357  0.499530   9.627165  0.051888\n",
       "28  960.250549  0.381036   7.900114  0.048232\n",
       "29  970.637634  0.300854   6.381915  0.047142"
      ]
     },
     "execution_count": 58,
     "metadata": {},
     "output_type": "execute_result"
    }
   ],
   "source": [
    "df_vis.tail(5)"
   ]
  },
  {
   "cell_type": "code",
   "execution_count": 59,
   "metadata": {},
   "outputs": [
    {
     "data": {
      "text/plain": [
       "[<matplotlib.lines.Line2D at 0x7f11672f1210>]"
      ]
     },
     "execution_count": 59,
     "metadata": {},
     "output_type": "execute_result"
    },
    {
     "data": {
      "image/png": "[encoded data removed]",
      "text/plain": [
       "<Figure size 432x288 with 1 Axes>"
      ]
     },
     "metadata": {
      "needs_background": "light"
     },
     "output_type": "display_data"
    }
   ],
   "source": [
    "plt.plot(df_vis.emeas, df_vis.rad)"
   ]
  },
  {
   "cell_type": "code",
   "execution_count": 60,
   "metadata": {},
   "outputs": [],
   "source": [
    "df_n = df.merge(df_vis[['emeas', 'rad']], on='emeas')"
   ]
  },
  {
   "cell_type": "code",
   "execution_count": 61,
   "metadata": {},
   "outputs": [],
   "source": [
    "df_n['cs_born'] = df_n['cs_vis']/df_n['rad']"
   ]
  },
  {
   "cell_type": "code",
   "execution_count": 62,
   "metadata": {},
   "outputs": [
    {
     "data": {
      "text/html": [
       "<div>\n",
       "<style scoped>\n",
       "    .dataframe tbody tr th:only-of-type {\n",
       "        vertical-align: middle;\n",
       "    }\n",
       "\n",
       "    .dataframe tbody tr th {\n",
       "        vertical-align: top;\n",
       "    }\n",
       "\n",
       "    .dataframe thead th {\n",
       "        text-align: right;\n",
       "    }\n",
       "</style>\n",
       "<table border=\"1\" class=\"dataframe\">\n",
       "  <thead>\n",
       "    <tr style=\"text-align: right;\">\n",
       "      <th></th>\n",
       "      <th>n_sig_exp</th>\n",
       "      <th>n_bkg_exp</th>\n",
       "      <th>m_exp</th>\n",
       "      <th>sL_exp</th>\n",
       "      <th>sR_exp</th>\n",
       "      <th>aL_exp</th>\n",
       "      <th>aR_exp</th>\n",
       "      <th>k_exp</th>\n",
       "      <th>n_sig_exp_err</th>\n",
       "      <th>n_bkg_exp_err</th>\n",
       "      <th>...</th>\n",
       "      <th>lum</th>\n",
       "      <th>lum_err</th>\n",
       "      <th>eff_trig</th>\n",
       "      <th>eff_trig_err</th>\n",
       "      <th>n0_mc</th>\n",
       "      <th>eff_reg</th>\n",
       "      <th>eff_reg_err</th>\n",
       "      <th>cs_vis</th>\n",
       "      <th>rad</th>\n",
       "      <th>cs_born</th>\n",
       "    </tr>\n",
       "  </thead>\n",
       "  <tbody>\n",
       "    <tr>\n",
       "      <th>0</th>\n",
       "      <td>91.352114</td>\n",
       "      <td>179.647935</td>\n",
       "      <td>-0.528247</td>\n",
       "      <td>1.781879</td>\n",
       "      <td>1.323840</td>\n",
       "      <td>0.104757</td>\n",
       "      <td>0.252080</td>\n",
       "      <td>0.007588</td>\n",
       "      <td>18.754637</td>\n",
       "      <td>19.982518</td>\n",
       "      <td>...</td>\n",
       "      <td>9285.61</td>\n",
       "      <td>8.37158</td>\n",
       "      <td>0.990931</td>\n",
       "      <td>0.003736</td>\n",
       "      <td>20000</td>\n",
       "      <td>0.022397</td>\n",
       "      <td>0.000764</td>\n",
       "      <td>0.443281</td>\n",
       "      <td>13.225681</td>\n",
       "      <td>0.033517</td>\n",
       "    </tr>\n",
       "    <tr>\n",
       "      <th>1</th>\n",
       "      <td>79.874775</td>\n",
       "      <td>85.125234</td>\n",
       "      <td>0.733879</td>\n",
       "      <td>2.275196</td>\n",
       "      <td>2.920783</td>\n",
       "      <td>0.080863</td>\n",
       "      <td>0.187479</td>\n",
       "      <td>0.009647</td>\n",
       "      <td>10.501887</td>\n",
       "      <td>10.625610</td>\n",
       "      <td>...</td>\n",
       "      <td>8912.33</td>\n",
       "      <td>8.29880</td>\n",
       "      <td>0.990097</td>\n",
       "      <td>0.004525</td>\n",
       "      <td>20000</td>\n",
       "      <td>0.027547</td>\n",
       "      <td>0.000857</td>\n",
       "      <td>0.328599</td>\n",
       "      <td>11.006297</td>\n",
       "      <td>0.029856</td>\n",
       "    </tr>\n",
       "    <tr>\n",
       "      <th>2</th>\n",
       "      <td>133.352210</td>\n",
       "      <td>138.647813</td>\n",
       "      <td>1.365318</td>\n",
       "      <td>3.308728</td>\n",
       "      <td>2.727496</td>\n",
       "      <td>0.075685</td>\n",
       "      <td>0.180297</td>\n",
       "      <td>0.010680</td>\n",
       "      <td>12.993237</td>\n",
       "      <td>13.094701</td>\n",
       "      <td>...</td>\n",
       "      <td>9675.75</td>\n",
       "      <td>8.69699</td>\n",
       "      <td>0.994219</td>\n",
       "      <td>0.002623</td>\n",
       "      <td>20000</td>\n",
       "      <td>0.027751</td>\n",
       "      <td>0.000848</td>\n",
       "      <td>0.499530</td>\n",
       "      <td>9.627165</td>\n",
       "      <td>0.051888</td>\n",
       "    </tr>\n",
       "    <tr>\n",
       "      <th>3</th>\n",
       "      <td>133.058235</td>\n",
       "      <td>212.943228</td>\n",
       "      <td>0.063086</td>\n",
       "      <td>2.980204</td>\n",
       "      <td>2.864606</td>\n",
       "      <td>0.069697</td>\n",
       "      <td>0.153211</td>\n",
       "      <td>0.004876</td>\n",
       "      <td>26.182148</td>\n",
       "      <td>26.926367</td>\n",
       "      <td>...</td>\n",
       "      <td>9904.05</td>\n",
       "      <td>8.88435</td>\n",
       "      <td>0.993366</td>\n",
       "      <td>0.002547</td>\n",
       "      <td>20000</td>\n",
       "      <td>0.035494</td>\n",
       "      <td>0.000942</td>\n",
       "      <td>0.381036</td>\n",
       "      <td>7.900114</td>\n",
       "      <td>0.048232</td>\n",
       "    </tr>\n",
       "    <tr>\n",
       "      <th>4</th>\n",
       "      <td>101.949186</td>\n",
       "      <td>192.050907</td>\n",
       "      <td>1.024389</td>\n",
       "      <td>2.095426</td>\n",
       "      <td>2.091710</td>\n",
       "      <td>0.088258</td>\n",
       "      <td>0.158477</td>\n",
       "      <td>0.034136</td>\n",
       "      <td>11.122418</td>\n",
       "      <td>12.989490</td>\n",
       "      <td>...</td>\n",
       "      <td>8871.48</td>\n",
       "      <td>8.49301</td>\n",
       "      <td>0.996023</td>\n",
       "      <td>0.002012</td>\n",
       "      <td>20000</td>\n",
       "      <td>0.038350</td>\n",
       "      <td>0.000987</td>\n",
       "      <td>0.300854</td>\n",
       "      <td>6.381915</td>\n",
       "      <td>0.047142</td>\n",
       "    </tr>\n",
       "  </tbody>\n",
       "</table>\n",
       "<p>5 rows × 39 columns</p>\n",
       "</div>"
      ],
      "text/plain": [
       "    n_sig_exp   n_bkg_exp     m_exp    sL_exp    sR_exp    aL_exp    aR_exp  \\\n",
       "0   91.352114  179.647935 -0.528247  1.781879  1.323840  0.104757  0.252080   \n",
       "1   79.874775   85.125234  0.733879  2.275196  2.920783  0.080863  0.187479   \n",
       "2  133.352210  138.647813  1.365318  3.308728  2.727496  0.075685  0.180297   \n",
       "3  133.058235  212.943228  0.063086  2.980204  2.864606  0.069697  0.153211   \n",
       "4  101.949186  192.050907  1.024389  2.095426  2.091710  0.088258  0.158477   \n",
       "\n",
       "      k_exp  n_sig_exp_err  n_bkg_exp_err  ...      lum  lum_err  eff_trig  \\\n",
       "0  0.007588      18.754637      19.982518  ...  9285.61  8.37158  0.990931   \n",
       "1  0.009647      10.501887      10.625610  ...  8912.33  8.29880  0.990097   \n",
       "2  0.010680      12.993237      13.094701  ...  9675.75  8.69699  0.994219   \n",
       "3  0.004876      26.182148      26.926367  ...  9904.05  8.88435  0.993366   \n",
       "4  0.034136      11.122418      12.989490  ...  8871.48  8.49301  0.996023   \n",
       "\n",
       "   eff_trig_err  n0_mc   eff_reg  eff_reg_err    cs_vis        rad   cs_born  \n",
       "0      0.003736  20000  0.022397     0.000764  0.443281  13.225681  0.033517  \n",
       "1      0.004525  20000  0.027547     0.000857  0.328599  11.006297  0.029856  \n",
       "2      0.002623  20000  0.027751     0.000848  0.499530   9.627165  0.051888  \n",
       "3      0.002547  20000  0.035494     0.000942  0.381036   7.900114  0.048232  \n",
       "4      0.002012  20000  0.038350     0.000987  0.300854   6.381915  0.047142  \n",
       "\n",
       "[5 rows x 39 columns]"
      ]
     },
     "execution_count": 62,
     "metadata": {},
     "output_type": "execute_result"
    }
   ],
   "source": [
    "df_n.tail()"
   ]
  },
  {
   "cell_type": "code",
   "execution_count": 64,
   "metadata": {},
   "outputs": [],
   "source": [
    "# df_n.to_csv(f'images/res{SEASON}_new.csv')"
   ]
  },
  {
   "cell_type": "code",
   "execution_count": 65,
   "metadata": {},
   "outputs": [
    {
     "data": {
      "image/png": "[encoded data removed]",
      "text/plain": [
       "<Figure size 432x288 with 1 Axes>"
      ]
     },
     "metadata": {
      "needs_background": "light"
     },
     "output_type": "display_data"
    }
   ],
   "source": [
    "df_n.set_index('emeas').cs_born.plot()\n",
    "plt.plot(df_approx.emeas, df_approx.cs_born)\n",
    "plt.yscale('log')"
   ]
  },
  {
   "cell_type": "code",
   "execution_count": 64,
   "metadata": {},
   "outputs": [
    {
     "data": {
      "image/png": "[encoded data removed]",
      "text/plain": [
       "<Figure size 432x288 with 1 Axes>"
      ]
     },
     "metadata": {
      "needs_background": "light"
     },
     "output_type": "display_data"
    }
   ],
   "source": [
    "df_n.set_index('emeas').cs_born.plot()\n",
    "plt.plot(df_approx.emeas, df_approx.cs_born)\n",
    "plt.yscale('log')"
   ]
  },
  {
   "cell_type": "markdown",
   "metadata": {},
   "source": [
    "Сечение"
   ]
  },
  {
   "cell_type": "code",
   "execution_count": 66,
   "metadata": {},
   "outputs": [],
   "source": [
    "dfs = [pd.read_csv('images/res11_new.csv', index_col=0),\n",
    "       pd.read_csv('images/res12_new.csv', index_col=0),\n",
    "       pd.read_csv('images/res19_new.csv', index_col=0),\n",
    "       pd.read_csv('images/res20_new.csv', index_col=0),\n",
    "      ]"
   ]
  },
  {
   "cell_type": "code",
   "execution_count": 67,
   "metadata": {},
   "outputs": [],
   "source": [
    "for df in dfs:\n",
    "    if 'n_sig_exp' not in df.columns:\n",
    "        df['n_sig'] = df['n_exp']*df['f_exp']\n",
    "        df['n_sig_err'] = df['n_sig']*np.sqrt( (df['n_exp_err']/df['n_exp'])**2 + (df['f_exp_err']/df['f_exp'])**2 )\n",
    "    else:\n",
    "        df['n_sig'] = df['n_sig_exp']\n",
    "        df['n_sig_err'] = df['n_sig_exp_err']\n",
    "    df['cs_born_err'] = df['cs_born']*np.sqrt( (df['n_sig_err']/df['n_sig'])**2 + (df['eff_reg_err']/df['eff_reg'])**2 +\\\n",
    "                                             (df['eff_trig_err']/df['eff_trig'])**2)"
   ]
  },
  {
   "cell_type": "code",
   "execution_count": 68,
   "metadata": {},
   "outputs": [
    {
     "data": {
      "image/png": "[encoded data removed]",
      "text/plain": [
       "<Figure size 1080x720 with 1 Axes>"
      ]
     },
     "metadata": {
      "needs_background": "light"
     },
     "output_type": "display_data"
    }
   ],
   "source": [
    "plt.figure(dpi=180)\n",
    "for df, e in zip(dfs, ['11', '12', '19', '20']):\n",
    "    plt.errorbar(df.emeas*2e-3, df.cs_born, yerr=df.cs_born_err, fmt='.', label=f'Measured cs {e}', alpha=1, markersize=2, lw=1)\n",
    "# plt.plot(df_approx.emeas*2e-3, df_approx.cs_born, label='Cross section in MC')\n",
    "# plt.errorbar(df_koz.E, df_koz.cs, yerr=df_koz.cs_err, fmt='.')\n",
    "# plt.xlim(520*2, 1200)\n",
    "plt.grid(ls='--', alpha=0.4)\n",
    "plt.grid(which='minor', ls='--', alpha=0.2)\n",
    "plt.minorticks_on()\n",
    "plt.legend()\n",
    "plt.ylim(1e-2, None)\n",
    "plt.yscale('log')\n",
    "plt.title('Cross section $e^+ e^- \\\\to K_S K_L$')\n",
    "plt.ylabel('$\\sigma$, nb')\n",
    "plt.xlabel('$\\sqrt{s}$, GeV');\n",
    "# plt.savefig('images/cs_kskl1.png', dpi=120)"
   ]
  },
  {
   "cell_type": "code",
   "execution_count": 27,
   "metadata": {},
   "outputs": [
    {
     "data": {
      "image/png": "[encoded data removed]",
      "text/plain": [
       "<Figure size 720x480 with 2 Axes>"
      ]
     },
     "metadata": {
      "needs_background": "light"
     },
     "output_type": "display_data"
    }
   ],
   "source": [
    "fig, ax1 = plt.subplots(dpi=120)\n",
    "\n",
    "color = 'tab:red'\n",
    "ax1.set_xlabel('$\\sqrt{s}$, GeV')\n",
    "ax1.set_ylabel('registration efficiency', color=color)\n",
    "ax1.errorbar(df.emeas, df.eff_reg, yerr=df.eff_reg_err, fmt='.', color=color)\n",
    "ax1.tick_params(axis='y', labelcolor=color)\n",
    "\n",
    "ax2 = ax1.twinx()  # instantiate a second axes that shares the same x-axis\n",
    "\n",
    "color = 'tab:blue'\n",
    "ax2.set_ylabel('radiative correction', color=color)  # we already handled the x-label with ax1\n",
    "ax2.scatter(df.emeas, df.rad, marker='.', color=color)\n",
    "ax2.tick_params(axis='y', labelcolor=color)\n",
    "\n",
    "ax1.grid(alpha=0.4)\n",
    "ax1.minorticks_on()\n",
    "ax1.grid(which='minor', alpha=0.2)\n",
    "\n",
    "fig.tight_layout()  # otherwise the right y-label is slightly clipped\n",
    "# plt.savefig('images/rad_reg_eff.png', dpi=120)"
   ]
  }
 ],
 "metadata": {
  "kernelspec": {
   "display_name": "Python 3",
   "language": "python",
   "name": "python3"
  },
  "language_info": {
   "codemirror_mode": {
    "name": "ipython",
    "version": 3
   },
   "file_extension": ".py",
   "mimetype": "text/x-python",
   "name": "python",
   "nbconvert_exporter": "python",
   "pygments_lexer": "ipython3",
   "version": "3.7.9"
  },
  "toc-autonumbering": false,
  "toc-showcode": false,
  "toc-showmarkdowntxt": false
 },
 "nbformat": 4,
 "nbformat_minor": 4
}
