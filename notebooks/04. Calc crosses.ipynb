{
 "cells": [
  {
   "cell_type": "code",
   "execution_count": 1,
   "metadata": {},
   "outputs": [],
   "source": [
    "import numpy as np\n",
    "import pandas as pd\n",
    "import matplotlib.pyplot as plt\n",
    "\n",
    "%matplotlib inline"
   ]
  },
  {
   "cell_type": "code",
   "execution_count": 110,
   "metadata": {},
   "outputs": [],
   "source": [
    "df = pd.read_csv('images/fit19_new.csv', index_col=0)\n",
    "df_lum = pd.read_csv('/storeA/ryzhenenkov/lum2019.dat', sep='\\t', names=['energy', 'lum', 'lum_err'], index_col='energy')\n",
    "df_triggers = pd.read_csv('images/triggers19_new.csv', index_col=0)\n",
    "df = df.join(df_lum).join(df_triggers[['eff_trig', 'eff_trig_err']])\n",
    "df['n0_mc'] = 20000"
   ]
  },
  {
   "cell_type": "code",
   "execution_count": 113,
   "metadata": {},
   "outputs": [
    {
     "data": {
      "text/html": [
       "<div>\n",
       "<style scoped>\n",
       "    .dataframe tbody tr th:only-of-type {\n",
       "        vertical-align: middle;\n",
       "    }\n",
       "\n",
       "    .dataframe tbody tr th {\n",
       "        vertical-align: top;\n",
       "    }\n",
       "\n",
       "    .dataframe thead th {\n",
       "        text-align: right;\n",
       "    }\n",
       "</style>\n",
       "<table border=\"1\" class=\"dataframe\">\n",
       "  <thead>\n",
       "    <tr style=\"text-align: right;\">\n",
       "      <th></th>\n",
       "      <th>n_sig_exp</th>\n",
       "      <th>n_bkg_exp</th>\n",
       "      <th>m_exp</th>\n",
       "      <th>sL_exp</th>\n",
       "      <th>sR_exp</th>\n",
       "      <th>aL_exp</th>\n",
       "      <th>aR_exp</th>\n",
       "      <th>k_exp</th>\n",
       "      <th>n_sig_exp_err</th>\n",
       "      <th>n_bkg_exp_err</th>\n",
       "      <th>...</th>\n",
       "      <th>aL_mc_err</th>\n",
       "      <th>aR_mc_err</th>\n",
       "      <th>emeas</th>\n",
       "      <th>lum</th>\n",
       "      <th>lum_err</th>\n",
       "      <th>eff_trig</th>\n",
       "      <th>eff_trig_err</th>\n",
       "      <th>n0_mc</th>\n",
       "      <th>eff_reg</th>\n",
       "      <th>eff_reg_err</th>\n",
       "    </tr>\n",
       "  </thead>\n",
       "  <tbody>\n",
       "    <tr>\n",
       "      <th>537.5</th>\n",
       "      <td>2178.978308</td>\n",
       "      <td>4.103284e-08</td>\n",
       "      <td>0.020957</td>\n",
       "      <td>3.035526</td>\n",
       "      <td>2.684457</td>\n",
       "      <td>0.088348</td>\n",
       "      <td>0.147776</td>\n",
       "      <td>0.000014</td>\n",
       "      <td>32.874884</td>\n",
       "      <td>5.738491</td>\n",
       "      <td>...</td>\n",
       "      <td>0.002585</td>\n",
       "      <td>0.005571</td>\n",
       "      <td>537.480652</td>\n",
       "      <td>1224.66</td>\n",
       "      <td>1.75856</td>\n",
       "      <td>0.996333</td>\n",
       "      <td>0.000715</td>\n",
       "      <td>20000</td>\n",
       "      <td>0.113708</td>\n",
       "      <td>0.001686</td>\n",
       "    </tr>\n",
       "    <tr>\n",
       "      <th>550.0</th>\n",
       "      <td>1524.769472</td>\n",
       "      <td>5.236851e+00</td>\n",
       "      <td>0.347903</td>\n",
       "      <td>3.390592</td>\n",
       "      <td>2.788483</td>\n",
       "      <td>0.082753</td>\n",
       "      <td>0.160511</td>\n",
       "      <td>9.590926</td>\n",
       "      <td>34.786473</td>\n",
       "      <td>15.294194</td>\n",
       "      <td>...</td>\n",
       "      <td>0.002851</td>\n",
       "      <td>0.006378</td>\n",
       "      <td>549.340454</td>\n",
       "      <td>1424.27</td>\n",
       "      <td>1.93920</td>\n",
       "      <td>0.996937</td>\n",
       "      <td>0.000774</td>\n",
       "      <td>20000</td>\n",
       "      <td>0.105098</td>\n",
       "      <td>0.001616</td>\n",
       "    </tr>\n",
       "    <tr>\n",
       "      <th>562.5</th>\n",
       "      <td>723.817921</td>\n",
       "      <td>8.141569e+00</td>\n",
       "      <td>0.491515</td>\n",
       "      <td>3.345036</td>\n",
       "      <td>2.506786</td>\n",
       "      <td>0.081618</td>\n",
       "      <td>0.151051</td>\n",
       "      <td>0.070368</td>\n",
       "      <td>22.669801</td>\n",
       "      <td>9.028397</td>\n",
       "      <td>...</td>\n",
       "      <td>0.002979</td>\n",
       "      <td>0.005283</td>\n",
       "      <td>562.499817</td>\n",
       "      <td>1048.68</td>\n",
       "      <td>1.70440</td>\n",
       "      <td>0.994255</td>\n",
       "      <td>0.001678</td>\n",
       "      <td>20000</td>\n",
       "      <td>0.100550</td>\n",
       "      <td>0.001585</td>\n",
       "    </tr>\n",
       "    <tr>\n",
       "      <th>575.0</th>\n",
       "      <td>573.013736</td>\n",
       "      <td>6.496837e-07</td>\n",
       "      <td>0.252027</td>\n",
       "      <td>2.983930</td>\n",
       "      <td>2.474596</td>\n",
       "      <td>0.079659</td>\n",
       "      <td>0.151603</td>\n",
       "      <td>3.486498</td>\n",
       "      <td>15.933425</td>\n",
       "      <td>1.799810</td>\n",
       "      <td>...</td>\n",
       "      <td>0.002805</td>\n",
       "      <td>0.005269</td>\n",
       "      <td>574.862061</td>\n",
       "      <td>1054.35</td>\n",
       "      <td>1.74597</td>\n",
       "      <td>0.995127</td>\n",
       "      <td>0.001219</td>\n",
       "      <td>20000</td>\n",
       "      <td>0.093699</td>\n",
       "      <td>0.001531</td>\n",
       "    </tr>\n",
       "    <tr>\n",
       "      <th>587.5</th>\n",
       "      <td>401.965750</td>\n",
       "      <td>2.603856e+01</td>\n",
       "      <td>0.252074</td>\n",
       "      <td>3.093266</td>\n",
       "      <td>2.182504</td>\n",
       "      <td>0.084589</td>\n",
       "      <td>0.150150</td>\n",
       "      <td>0.083068</td>\n",
       "      <td>21.119477</td>\n",
       "      <td>16.088450</td>\n",
       "      <td>...</td>\n",
       "      <td>0.002888</td>\n",
       "      <td>0.005211</td>\n",
       "      <td>587.732422</td>\n",
       "      <td>1167.38</td>\n",
       "      <td>1.87792</td>\n",
       "      <td>0.996413</td>\n",
       "      <td>0.001059</td>\n",
       "      <td>20000</td>\n",
       "      <td>0.088900</td>\n",
       "      <td>0.001491</td>\n",
       "    </tr>\n",
       "  </tbody>\n",
       "</table>\n",
       "<p>5 rows × 36 columns</p>\n",
       "</div>"
      ],
      "text/plain": [
       "         n_sig_exp     n_bkg_exp     m_exp    sL_exp    sR_exp    aL_exp  \\\n",
       "537.5  2178.978308  4.103284e-08  0.020957  3.035526  2.684457  0.088348   \n",
       "550.0  1524.769472  5.236851e+00  0.347903  3.390592  2.788483  0.082753   \n",
       "562.5   723.817921  8.141569e+00  0.491515  3.345036  2.506786  0.081618   \n",
       "575.0   573.013736  6.496837e-07  0.252027  2.983930  2.474596  0.079659   \n",
       "587.5   401.965750  2.603856e+01  0.252074  3.093266  2.182504  0.084589   \n",
       "\n",
       "         aR_exp     k_exp  n_sig_exp_err  n_bkg_exp_err  ...  aL_mc_err  \\\n",
       "537.5  0.147776  0.000014      32.874884       5.738491  ...   0.002585   \n",
       "550.0  0.160511  9.590926      34.786473      15.294194  ...   0.002851   \n",
       "562.5  0.151051  0.070368      22.669801       9.028397  ...   0.002979   \n",
       "575.0  0.151603  3.486498      15.933425       1.799810  ...   0.002805   \n",
       "587.5  0.150150  0.083068      21.119477      16.088450  ...   0.002888   \n",
       "\n",
       "       aR_mc_err       emeas      lum  lum_err  eff_trig  eff_trig_err  n0_mc  \\\n",
       "537.5   0.005571  537.480652  1224.66  1.75856  0.996333      0.000715  20000   \n",
       "550.0   0.006378  549.340454  1424.27  1.93920  0.996937      0.000774  20000   \n",
       "562.5   0.005283  562.499817  1048.68  1.70440  0.994255      0.001678  20000   \n",
       "575.0   0.005269  574.862061  1054.35  1.74597  0.995127      0.001219  20000   \n",
       "587.5   0.005211  587.732422  1167.38  1.87792  0.996413      0.001059  20000   \n",
       "\n",
       "        eff_reg  eff_reg_err  \n",
       "537.5  0.113708     0.001686  \n",
       "550.0  0.105098     0.001616  \n",
       "562.5  0.100550     0.001585  \n",
       "575.0  0.093699     0.001531  \n",
       "587.5  0.088900     0.001491  \n",
       "\n",
       "[5 rows x 36 columns]"
      ]
     },
     "execution_count": 113,
     "metadata": {},
     "output_type": "execute_result"
    }
   ],
   "source": [
    "df.head()"
   ]
  },
  {
   "cell_type": "code",
   "execution_count": 114,
   "metadata": {},
   "outputs": [],
   "source": [
    "df['eff_reg'], df['eff_reg_err'] = df['n_sig_mc']/df['n0_mc'], df['n_sig_mc_err']/df['n0_mc']"
   ]
  },
  {
   "cell_type": "code",
   "execution_count": 115,
   "metadata": {},
   "outputs": [],
   "source": [
    "df['cs_vis'] = df['n_sig_exp']/(df['eff_reg']*df['eff_trig']*df['lum'])"
   ]
  },
  {
   "cell_type": "code",
   "execution_count": 116,
   "metadata": {},
   "outputs": [],
   "source": [
    "df_koz = pd.read_csv('images/kozyrev.txt')\n",
    "df_koz['emeas'] = df_koz['E']/2\n",
    "df_koz['cs_vis'] = df_koz['cs']*df_koz['rad']"
   ]
  },
  {
   "cell_type": "code",
   "execution_count": 117,
   "metadata": {},
   "outputs": [],
   "source": [
    "df_vis = pd.concat([df_koz[['emeas', 'cs_vis']], df[['emeas', 'cs_vis']]], ignore_index=True).sort_values(by='emeas')\n",
    "df_vis['rad'] = 1\n",
    "df_vis['cs_born'] = df_vis['cs_vis']/df_vis['rad']"
   ]
  },
  {
   "cell_type": "code",
   "execution_count": 118,
   "metadata": {},
   "outputs": [
    {
     "data": {
      "text/html": [
       "<div>\n",
       "<style scoped>\n",
       "    .dataframe tbody tr th:only-of-type {\n",
       "        vertical-align: middle;\n",
       "    }\n",
       "\n",
       "    .dataframe tbody tr th {\n",
       "        vertical-align: top;\n",
       "    }\n",
       "\n",
       "    .dataframe thead th {\n",
       "        text-align: right;\n",
       "    }\n",
       "</style>\n",
       "<table border=\"1\" class=\"dataframe\">\n",
       "  <thead>\n",
       "    <tr style=\"text-align: right;\">\n",
       "      <th></th>\n",
       "      <th>emeas</th>\n",
       "      <th>cs_vis</th>\n",
       "      <th>rad</th>\n",
       "      <th>cs_born</th>\n",
       "    </tr>\n",
       "  </thead>\n",
       "  <tbody>\n",
       "    <tr>\n",
       "      <th>0</th>\n",
       "      <td>502.0330</td>\n",
       "      <td>4.9464</td>\n",
       "      <td>1</td>\n",
       "      <td>4.9464</td>\n",
       "    </tr>\n",
       "    <tr>\n",
       "      <th>1</th>\n",
       "      <td>505.2330</td>\n",
       "      <td>30.7768</td>\n",
       "      <td>1</td>\n",
       "      <td>30.7768</td>\n",
       "    </tr>\n",
       "    <tr>\n",
       "      <th>2</th>\n",
       "      <td>506.4775</td>\n",
       "      <td>69.6528</td>\n",
       "      <td>1</td>\n",
       "      <td>69.6528</td>\n",
       "    </tr>\n",
       "    <tr>\n",
       "      <th>3</th>\n",
       "      <td>507.5340</td>\n",
       "      <td>155.8663</td>\n",
       "      <td>1</td>\n",
       "      <td>155.8663</td>\n",
       "    </tr>\n",
       "    <tr>\n",
       "      <th>4</th>\n",
       "      <td>508.0525</td>\n",
       "      <td>260.0943</td>\n",
       "      <td>1</td>\n",
       "      <td>260.0943</td>\n",
       "    </tr>\n",
       "  </tbody>\n",
       "</table>\n",
       "</div>"
      ],
      "text/plain": [
       "      emeas    cs_vis  rad   cs_born\n",
       "0  502.0330    4.9464    1    4.9464\n",
       "1  505.2330   30.7768    1   30.7768\n",
       "2  506.4775   69.6528    1   69.6528\n",
       "3  507.5340  155.8663    1  155.8663\n",
       "4  508.0525  260.0943    1  260.0943"
      ]
     },
     "execution_count": 118,
     "metadata": {},
     "output_type": "execute_result"
    }
   ],
   "source": [
    "df_vis.head()"
   ]
  },
  {
   "cell_type": "code",
   "execution_count": 119,
   "metadata": {},
   "outputs": [],
   "source": [
    "df_approx = pd.read_csv('../data/cross_sections_kskl.txt', sep=' ', index_col=0, names=['E', 'cs_born'])\n",
    "df_approx['emeas'] = df_approx['E']/2\n",
    "df_approx['rad'] = 1"
   ]
  },
  {
   "cell_type": "code",
   "execution_count": 120,
   "metadata": {},
   "outputs": [],
   "source": [
    "from scipy.interpolate import make_interp_spline"
   ]
  },
  {
   "cell_type": "code",
   "execution_count": 121,
   "metadata": {},
   "outputs": [
    {
     "data": {
      "text/html": [
       "<div>\n",
       "<style scoped>\n",
       "    .dataframe tbody tr th:only-of-type {\n",
       "        vertical-align: middle;\n",
       "    }\n",
       "\n",
       "    .dataframe tbody tr th {\n",
       "        vertical-align: top;\n",
       "    }\n",
       "\n",
       "    .dataframe thead th {\n",
       "        text-align: right;\n",
       "    }\n",
       "</style>\n",
       "<table border=\"1\" class=\"dataframe\">\n",
       "  <thead>\n",
       "    <tr style=\"text-align: right;\">\n",
       "      <th></th>\n",
       "      <th>E</th>\n",
       "      <th>cs_born</th>\n",
       "      <th>emeas</th>\n",
       "      <th>rad</th>\n",
       "    </tr>\n",
       "  </thead>\n",
       "  <tbody>\n",
       "    <tr>\n",
       "      <th>2</th>\n",
       "      <td>995.0</td>\n",
       "      <td>0.000000</td>\n",
       "      <td>497.5</td>\n",
       "      <td>1</td>\n",
       "    </tr>\n",
       "    <tr>\n",
       "      <th>3</th>\n",
       "      <td>996.0</td>\n",
       "      <td>0.067593</td>\n",
       "      <td>498.0</td>\n",
       "      <td>1</td>\n",
       "    </tr>\n",
       "    <tr>\n",
       "      <th>4</th>\n",
       "      <td>997.0</td>\n",
       "      <td>0.292279</td>\n",
       "      <td>498.5</td>\n",
       "      <td>1</td>\n",
       "    </tr>\n",
       "    <tr>\n",
       "      <th>5</th>\n",
       "      <td>998.0</td>\n",
       "      <td>0.642567</td>\n",
       "      <td>499.0</td>\n",
       "      <td>1</td>\n",
       "    </tr>\n",
       "    <tr>\n",
       "      <th>6</th>\n",
       "      <td>999.0</td>\n",
       "      <td>1.128050</td>\n",
       "      <td>499.5</td>\n",
       "      <td>1</td>\n",
       "    </tr>\n",
       "    <tr>\n",
       "      <th>...</th>\n",
       "      <td>...</td>\n",
       "      <td>...</td>\n",
       "      <td>...</td>\n",
       "      <td>...</td>\n",
       "    </tr>\n",
       "    <tr>\n",
       "      <th>545</th>\n",
       "      <td>2092.0</td>\n",
       "      <td>0.368000</td>\n",
       "      <td>1046.0</td>\n",
       "      <td>1</td>\n",
       "    </tr>\n",
       "    <tr>\n",
       "      <th>546</th>\n",
       "      <td>2094.0</td>\n",
       "      <td>0.381000</td>\n",
       "      <td>1047.0</td>\n",
       "      <td>1</td>\n",
       "    </tr>\n",
       "    <tr>\n",
       "      <th>547</th>\n",
       "      <td>2096.0</td>\n",
       "      <td>0.394000</td>\n",
       "      <td>1048.0</td>\n",
       "      <td>1</td>\n",
       "    </tr>\n",
       "    <tr>\n",
       "      <th>548</th>\n",
       "      <td>2098.0</td>\n",
       "      <td>0.409000</td>\n",
       "      <td>1049.0</td>\n",
       "      <td>1</td>\n",
       "    </tr>\n",
       "    <tr>\n",
       "      <th>549</th>\n",
       "      <td>2100.0</td>\n",
       "      <td>0.424000</td>\n",
       "      <td>1050.0</td>\n",
       "      <td>1</td>\n",
       "    </tr>\n",
       "  </tbody>\n",
       "</table>\n",
       "<p>555 rows × 4 columns</p>\n",
       "</div>"
      ],
      "text/plain": [
       "          E   cs_born   emeas  rad\n",
       "2     995.0  0.000000   497.5    1\n",
       "3     996.0  0.067593   498.0    1\n",
       "4     997.0  0.292279   498.5    1\n",
       "5     998.0  0.642567   499.0    1\n",
       "6     999.0  1.128050   499.5    1\n",
       "..      ...       ...     ...  ...\n",
       "545  2092.0  0.368000  1046.0    1\n",
       "546  2094.0  0.381000  1047.0    1\n",
       "547  2096.0  0.394000  1048.0    1\n",
       "548  2098.0  0.409000  1049.0    1\n",
       "549  2100.0  0.424000  1050.0    1\n",
       "\n",
       "[555 rows x 4 columns]"
      ]
     },
     "execution_count": 121,
     "metadata": {},
     "output_type": "execute_result"
    }
   ],
   "source": [
    "df_approx"
   ]
  },
  {
   "cell_type": "code",
   "execution_count": 122,
   "metadata": {},
   "outputs": [],
   "source": [
    "from pylib.radcors import RadCor"
   ]
  },
  {
   "cell_type": "code",
   "execution_count": 123,
   "metadata": {},
   "outputs": [
    {
     "name": "stdout",
     "output_type": "stream",
     "text": [
      "1\t"
     ]
    },
    {
     "name": "stderr",
     "output_type": "stream",
     "text": [
      "/spoolA/petrov/refac20/notebooks/pylib/radcors.py:66: IntegrationWarning: The occurrence of roundoff error is detected, which prevents \n",
      "  the requested tolerance from being achieved.  The error may be \n",
      "  underestimated.\n",
      "  0., Xmax, points=[0, 1], limit=50000, epsrel=0.0001)\n"
     ]
    },
    {
     "data": {
      "image/png": "[encoded data removed]",
      "text/plain": [
       "<Figure size 432x288 with 1 Axes>"
      ]
     },
     "metadata": {
      "needs_background": "light"
     },
     "output_type": "display_data"
    }
   ],
   "source": [
    "n_iter = 1\n",
    "for _ in range(n_iter):\n",
    "    print(_+1, end='\\t')\n",
    "    spl = make_interp_spline(df_approx.emeas, df_approx.cs_born, k=1)\n",
    "    e_interp = np.linspace(495, 1000, 3000) \n",
    "    cs_interp = spl(e_interp)\n",
    "    cs_interp = np.where(e_interp<497.6, 0, cs_interp)\n",
    "    cs_interp = np.where(cs_interp<0, 0, cs_interp)\n",
    "\n",
    "    r = RadCor(e_interp, cs_interp)\n",
    "\n",
    "    temp_rads = df_vis.rad.copy().astype('float')\n",
    "    for i, j in df_vis.iterrows():\n",
    "        temp_rads[i] = r.F_Radcor(j['emeas'])[0]\n",
    "    if (_==(n_iter-1)):\n",
    "        plt.plot(df_vis['emeas'], df_vis['rad']-temp_rads)\n",
    "    \n",
    "    df_vis['rad'] = temp_rads\n",
    "    df_vis['cs_born'] = df_vis['cs_vis']/df_vis['rad']"
   ]
  },
  {
   "cell_type": "code",
   "execution_count": 124,
   "metadata": {},
   "outputs": [
    {
     "data": {
      "text/html": [
       "<div>\n",
       "<style scoped>\n",
       "    .dataframe tbody tr th:only-of-type {\n",
       "        vertical-align: middle;\n",
       "    }\n",
       "\n",
       "    .dataframe tbody tr th {\n",
       "        vertical-align: top;\n",
       "    }\n",
       "\n",
       "    .dataframe thead th {\n",
       "        text-align: right;\n",
       "    }\n",
       "</style>\n",
       "<table border=\"1\" class=\"dataframe\">\n",
       "  <thead>\n",
       "    <tr style=\"text-align: right;\">\n",
       "      <th></th>\n",
       "      <th>emeas</th>\n",
       "      <th>cs_vis</th>\n",
       "      <th>rad</th>\n",
       "      <th>cs_born</th>\n",
       "    </tr>\n",
       "  </thead>\n",
       "  <tbody>\n",
       "    <tr>\n",
       "      <th>58</th>\n",
       "      <td>956.036438</td>\n",
       "      <td>0.127233</td>\n",
       "      <td>8.537467</td>\n",
       "      <td>0.014903</td>\n",
       "    </tr>\n",
       "    <tr>\n",
       "      <th>59</th>\n",
       "      <td>962.821045</td>\n",
       "      <td>0.367852</td>\n",
       "      <td>7.892775</td>\n",
       "      <td>0.046606</td>\n",
       "    </tr>\n",
       "    <tr>\n",
       "      <th>60</th>\n",
       "      <td>972.950867</td>\n",
       "      <td>0.381593</td>\n",
       "      <td>6.488969</td>\n",
       "      <td>0.058806</td>\n",
       "    </tr>\n",
       "    <tr>\n",
       "      <th>61</th>\n",
       "      <td>976.210022</td>\n",
       "      <td>0.332246</td>\n",
       "      <td>5.803554</td>\n",
       "      <td>0.057249</td>\n",
       "    </tr>\n",
       "    <tr>\n",
       "      <th>62</th>\n",
       "      <td>987.769592</td>\n",
       "      <td>0.250554</td>\n",
       "      <td>4.885168</td>\n",
       "      <td>0.051289</td>\n",
       "    </tr>\n",
       "  </tbody>\n",
       "</table>\n",
       "</div>"
      ],
      "text/plain": [
       "         emeas    cs_vis       rad   cs_born\n",
       "58  956.036438  0.127233  8.537467  0.014903\n",
       "59  962.821045  0.367852  7.892775  0.046606\n",
       "60  972.950867  0.381593  6.488969  0.058806\n",
       "61  976.210022  0.332246  5.803554  0.057249\n",
       "62  987.769592  0.250554  4.885168  0.051289"
      ]
     },
     "execution_count": 124,
     "metadata": {},
     "output_type": "execute_result"
    }
   ],
   "source": [
    "df_vis.tail(5)"
   ]
  },
  {
   "cell_type": "code",
   "execution_count": 125,
   "metadata": {},
   "outputs": [
    {
     "data": {
      "text/plain": [
       "[<matplotlib.lines.Line2D at 0x7f7bdeda0050>]"
      ]
     },
     "execution_count": 125,
     "metadata": {},
     "output_type": "execute_result"
    },
    {
     "data": {
      "image/png": "[encoded data removed]",
      "text/plain": [
       "<Figure size 432x288 with 1 Axes>"
      ]
     },
     "metadata": {
      "needs_background": "light"
     },
     "output_type": "display_data"
    }
   ],
   "source": [
    "plt.plot(df_vis.emeas, df_vis.rad)"
   ]
  },
  {
   "cell_type": "code",
   "execution_count": 126,
   "metadata": {},
   "outputs": [],
   "source": [
    "df_n = df.merge(df_vis[['emeas', 'rad']], on='emeas')"
   ]
  },
  {
   "cell_type": "code",
   "execution_count": 127,
   "metadata": {},
   "outputs": [],
   "source": [
    "df_n['cs_born'] = df_n['cs_vis']/df_n['rad']"
   ]
  },
  {
   "cell_type": "code",
   "execution_count": 128,
   "metadata": {},
   "outputs": [
    {
     "data": {
      "text/html": [
       "<div>\n",
       "<style scoped>\n",
       "    .dataframe tbody tr th:only-of-type {\n",
       "        vertical-align: middle;\n",
       "    }\n",
       "\n",
       "    .dataframe tbody tr th {\n",
       "        vertical-align: top;\n",
       "    }\n",
       "\n",
       "    .dataframe thead th {\n",
       "        text-align: right;\n",
       "    }\n",
       "</style>\n",
       "<table border=\"1\" class=\"dataframe\">\n",
       "  <thead>\n",
       "    <tr style=\"text-align: right;\">\n",
       "      <th></th>\n",
       "      <th>n_sig_exp</th>\n",
       "      <th>n_bkg_exp</th>\n",
       "      <th>m_exp</th>\n",
       "      <th>sL_exp</th>\n",
       "      <th>sR_exp</th>\n",
       "      <th>aL_exp</th>\n",
       "      <th>aR_exp</th>\n",
       "      <th>k_exp</th>\n",
       "      <th>n_sig_exp_err</th>\n",
       "      <th>n_bkg_exp_err</th>\n",
       "      <th>...</th>\n",
       "      <th>lum</th>\n",
       "      <th>lum_err</th>\n",
       "      <th>eff_trig</th>\n",
       "      <th>eff_trig_err</th>\n",
       "      <th>n0_mc</th>\n",
       "      <th>eff_reg</th>\n",
       "      <th>eff_reg_err</th>\n",
       "      <th>cs_vis</th>\n",
       "      <th>rad</th>\n",
       "      <th>cs_born</th>\n",
       "    </tr>\n",
       "  </thead>\n",
       "  <tbody>\n",
       "    <tr>\n",
       "      <th>37</th>\n",
       "      <td>32.428316</td>\n",
       "      <td>67.586926</td>\n",
       "      <td>1.388407</td>\n",
       "      <td>2.866742</td>\n",
       "      <td>1.611160</td>\n",
       "      <td>0.087179</td>\n",
       "      <td>0.149888</td>\n",
       "      <td>4.095325e-02</td>\n",
       "      <td>6.434838</td>\n",
       "      <td>7.677412</td>\n",
       "      <td>...</td>\n",
       "      <td>2272.430</td>\n",
       "      <td>4.35670</td>\n",
       "      <td>0.988800</td>\n",
       "      <td>0.006543</td>\n",
       "      <td>20000</td>\n",
       "      <td>0.057600</td>\n",
       "      <td>0.001192</td>\n",
       "      <td>0.250554</td>\n",
       "      <td>4.885168</td>\n",
       "      <td>0.051289</td>\n",
       "    </tr>\n",
       "    <tr>\n",
       "      <th>38</th>\n",
       "      <td>115.328843</td>\n",
       "      <td>2.671179</td>\n",
       "      <td>0.124264</td>\n",
       "      <td>2.379524</td>\n",
       "      <td>2.602095</td>\n",
       "      <td>0.079620</td>\n",
       "      <td>0.169035</td>\n",
       "      <td>1.785239e-12</td>\n",
       "      <td>7.884957</td>\n",
       "      <td>2.351458</td>\n",
       "      <td>...</td>\n",
       "      <td>954.102</td>\n",
       "      <td>1.87173</td>\n",
       "      <td>0.997253</td>\n",
       "      <td>0.001603</td>\n",
       "      <td>20000</td>\n",
       "      <td>0.067404</td>\n",
       "      <td>0.001298</td>\n",
       "      <td>1.798257</td>\n",
       "      <td>4.027405</td>\n",
       "      <td>0.446505</td>\n",
       "    </tr>\n",
       "    <tr>\n",
       "      <th>39</th>\n",
       "      <td>135.257916</td>\n",
       "      <td>13.742119</td>\n",
       "      <td>0.352305</td>\n",
       "      <td>2.699567</td>\n",
       "      <td>2.418510</td>\n",
       "      <td>0.084251</td>\n",
       "      <td>0.109204</td>\n",
       "      <td>8.396457e-03</td>\n",
       "      <td>9.493643</td>\n",
       "      <td>5.428159</td>\n",
       "      <td>...</td>\n",
       "      <td>989.271</td>\n",
       "      <td>2.26543</td>\n",
       "      <td>0.997651</td>\n",
       "      <td>0.001323</td>\n",
       "      <td>20000</td>\n",
       "      <td>0.145799</td>\n",
       "      <td>0.001909</td>\n",
       "      <td>0.939971</td>\n",
       "      <td>1.718608</td>\n",
       "      <td>0.546938</td>\n",
       "    </tr>\n",
       "    <tr>\n",
       "      <th>40</th>\n",
       "      <td>127.517038</td>\n",
       "      <td>42.483028</td>\n",
       "      <td>0.205863</td>\n",
       "      <td>2.133130</td>\n",
       "      <td>2.117789</td>\n",
       "      <td>0.080264</td>\n",
       "      <td>0.148957</td>\n",
       "      <td>7.187264e-01</td>\n",
       "      <td>10.096716</td>\n",
       "      <td>7.695082</td>\n",
       "      <td>...</td>\n",
       "      <td>1067.520</td>\n",
       "      <td>2.54467</td>\n",
       "      <td>0.998327</td>\n",
       "      <td>0.000912</td>\n",
       "      <td>20000</td>\n",
       "      <td>0.173545</td>\n",
       "      <td>0.002083</td>\n",
       "      <td>0.689459</td>\n",
       "      <td>1.843930</td>\n",
       "      <td>0.373908</td>\n",
       "    </tr>\n",
       "    <tr>\n",
       "      <th>41</th>\n",
       "      <td>23.617363</td>\n",
       "      <td>37.382644</td>\n",
       "      <td>-0.058447</td>\n",
       "      <td>2.425794</td>\n",
       "      <td>1.330691</td>\n",
       "      <td>0.064259</td>\n",
       "      <td>0.245803</td>\n",
       "      <td>1.159932e-01</td>\n",
       "      <td>5.667674</td>\n",
       "      <td>6.245360</td>\n",
       "      <td>...</td>\n",
       "      <td>1019.520</td>\n",
       "      <td>2.59089</td>\n",
       "      <td>0.994721</td>\n",
       "      <td>0.003974</td>\n",
       "      <td>20000</td>\n",
       "      <td>0.064298</td>\n",
       "      <td>0.001268</td>\n",
       "      <td>0.362190</td>\n",
       "      <td>6.420424</td>\n",
       "      <td>0.056412</td>\n",
       "    </tr>\n",
       "  </tbody>\n",
       "</table>\n",
       "<p>5 rows × 39 columns</p>\n",
       "</div>"
      ],
      "text/plain": [
       "     n_sig_exp  n_bkg_exp     m_exp    sL_exp    sR_exp    aL_exp    aR_exp  \\\n",
       "37   32.428316  67.586926  1.388407  2.866742  1.611160  0.087179  0.149888   \n",
       "38  115.328843   2.671179  0.124264  2.379524  2.602095  0.079620  0.169035   \n",
       "39  135.257916  13.742119  0.352305  2.699567  2.418510  0.084251  0.109204   \n",
       "40  127.517038  42.483028  0.205863  2.133130  2.117789  0.080264  0.148957   \n",
       "41   23.617363  37.382644 -0.058447  2.425794  1.330691  0.064259  0.245803   \n",
       "\n",
       "           k_exp  n_sig_exp_err  n_bkg_exp_err  ...       lum  lum_err  \\\n",
       "37  4.095325e-02       6.434838       7.677412  ...  2272.430  4.35670   \n",
       "38  1.785239e-12       7.884957       2.351458  ...   954.102  1.87173   \n",
       "39  8.396457e-03       9.493643       5.428159  ...   989.271  2.26543   \n",
       "40  7.187264e-01      10.096716       7.695082  ...  1067.520  2.54467   \n",
       "41  1.159932e-01       5.667674       6.245360  ...  1019.520  2.59089   \n",
       "\n",
       "    eff_trig  eff_trig_err  n0_mc   eff_reg  eff_reg_err    cs_vis       rad  \\\n",
       "37  0.988800      0.006543  20000  0.057600     0.001192  0.250554  4.885168   \n",
       "38  0.997253      0.001603  20000  0.067404     0.001298  1.798257  4.027405   \n",
       "39  0.997651      0.001323  20000  0.145799     0.001909  0.939971  1.718608   \n",
       "40  0.998327      0.000912  20000  0.173545     0.002083  0.689459  1.843930   \n",
       "41  0.994721      0.003974  20000  0.064298     0.001268  0.362190  6.420424   \n",
       "\n",
       "     cs_born  \n",
       "37  0.051289  \n",
       "38  0.446505  \n",
       "39  0.546938  \n",
       "40  0.373908  \n",
       "41  0.056412  \n",
       "\n",
       "[5 rows x 39 columns]"
      ]
     },
     "execution_count": 128,
     "metadata": {},
     "output_type": "execute_result"
    }
   ],
   "source": [
    "df_n.tail()"
   ]
  },
  {
   "cell_type": "code",
   "execution_count": 134,
   "metadata": {},
   "outputs": [],
   "source": [
    "# df_n.to_csv('images/res19_new.csv')"
   ]
  },
  {
   "cell_type": "code",
   "execution_count": 130,
   "metadata": {},
   "outputs": [
    {
     "data": {
      "image/png": "[encoded data removed]",
      "text/plain": [
       "<Figure size 432x288 with 1 Axes>"
      ]
     },
     "metadata": {
      "needs_background": "light"
     },
     "output_type": "display_data"
    }
   ],
   "source": [
    "df_n.set_index('emeas').cs_born.plot()\n",
    "plt.plot(df_approx.emeas, df_approx.cs_born)\n",
    "plt.yscale('log')"
   ]
  },
  {
   "cell_type": "code",
   "execution_count": 64,
   "metadata": {},
   "outputs": [
    {
     "data": {
      "image/png": "[encoded data removed]",
      "text/plain": [
       "<Figure size 432x288 with 1 Axes>"
      ]
     },
     "metadata": {
      "needs_background": "light"
     },
     "output_type": "display_data"
    }
   ],
   "source": [
    "df_n.set_index('emeas').cs_born.plot()\n",
    "plt.plot(df_approx.emeas, df_approx.cs_born)\n",
    "plt.yscale('log')"
   ]
  },
  {
   "cell_type": "markdown",
   "metadata": {},
   "source": [
    "Сечение"
   ]
  },
  {
   "cell_type": "code",
   "execution_count": 135,
   "metadata": {},
   "outputs": [],
   "source": [
    "dfs = [pd.read_csv('images/res11_new.csv', index_col=0),\n",
    "      pd.read_csv('images/res19_new.csv', index_col=0)]"
   ]
  },
  {
   "cell_type": "code",
   "execution_count": 136,
   "metadata": {},
   "outputs": [],
   "source": [
    "for df in dfs:\n",
    "    if 'n_sig_exp' not in df.columns:\n",
    "        df['n_sig'] = df['n_exp']*df['f_exp']\n",
    "        df['n_sig_err'] = df['n_sig']*np.sqrt( (df['n_exp_err']/df['n_exp'])**2 + (df['f_exp_err']/df['f_exp'])**2 )\n",
    "    else:\n",
    "        df['n_sig'] = df['n_sig_exp']\n",
    "        df['n_sig_err'] = df['n_sig_exp_err']\n",
    "    df['cs_born_err'] = df['cs_born']*np.sqrt( (df['n_sig_err']/df['n_sig'])**2 + (df['eff_reg_err']/df['eff_reg'])**2 +\\\n",
    "                                             (df['eff_trig_err']/df['eff_trig'])**2)"
   ]
  },
  {
   "cell_type": "code",
   "execution_count": 141,
   "metadata": {},
   "outputs": [
    {
     "data": {
      "image/png": "[encoded data removed]",
      "text/plain": [
       "<Figure size 1080x720 with 1 Axes>"
      ]
     },
     "metadata": {
      "needs_background": "light"
     },
     "output_type": "display_data"
    }
   ],
   "source": [
    "plt.figure(dpi=180)\n",
    "for df, e in zip(dfs, ['11', '19']):\n",
    "    plt.errorbar(df.emeas*2e-3, df.cs_born, yerr=df.cs_born_err, fmt='.', label=f'Measured cs {e}', alpha=1, markersize=2, lw=1)\n",
    "# plt.plot(df_approx.emeas*2e-3, df_approx.cs_born, label='Cross section in MC')\n",
    "# plt.errorbar(df_koz.E, df_koz.cs, yerr=df_koz.cs_err, fmt='.')\n",
    "# plt.xlim(520*2, 1200)\n",
    "plt.grid(ls='--', alpha=0.4)\n",
    "plt.grid(which='minor', ls='--', alpha=0.2)\n",
    "plt.minorticks_on()\n",
    "plt.legend()\n",
    "plt.ylim(1e-2, None)\n",
    "plt.yscale('log')\n",
    "plt.title('Cross section $e^+ e^- \\\\to K_S K_L$')\n",
    "plt.ylabel('$\\sigma$, nb')\n",
    "plt.xlabel('$\\sqrt{s}$, GeV');\n",
    "# plt.savefig('images/cs_kskl1.png', dpi=120)"
   ]
  },
  {
   "cell_type": "code",
   "execution_count": 27,
   "metadata": {},
   "outputs": [
    {
     "data": {
      "image/png": "[encoded data removed]",
      "text/plain": [
       "<Figure size 720x480 with 2 Axes>"
      ]
     },
     "metadata": {
      "needs_background": "light"
     },
     "output_type": "display_data"
    }
   ],
   "source": [
    "fig, ax1 = plt.subplots(dpi=120)\n",
    "\n",
    "color = 'tab:red'\n",
    "ax1.set_xlabel('$\\sqrt{s}$, GeV')\n",
    "ax1.set_ylabel('registration efficiency', color=color)\n",
    "ax1.errorbar(df.emeas, df.eff_reg, yerr=df.eff_reg_err, fmt='.', color=color)\n",
    "ax1.tick_params(axis='y', labelcolor=color)\n",
    "\n",
    "ax2 = ax1.twinx()  # instantiate a second axes that shares the same x-axis\n",
    "\n",
    "color = 'tab:blue'\n",
    "ax2.set_ylabel('radiative correction', color=color)  # we already handled the x-label with ax1\n",
    "ax2.scatter(df.emeas, df.rad, marker='.', color=color)\n",
    "ax2.tick_params(axis='y', labelcolor=color)\n",
    "\n",
    "ax1.grid(alpha=0.4)\n",
    "ax1.minorticks_on()\n",
    "ax1.grid(which='minor', alpha=0.2)\n",
    "\n",
    "fig.tight_layout()  # otherwise the right y-label is slightly clipped\n",
    "# plt.savefig('images/rad_reg_eff.png', dpi=120)"
   ]
  }
 ],
 "metadata": {
  "kernelspec": {
   "display_name": "Python 3",
   "language": "python",
   "name": "python3"
  },
  "language_info": {
   "codemirror_mode": {
    "name": "ipython",
    "version": 3
   },
   "file_extension": ".py",
   "mimetype": "text/x-python",
   "name": "python",
   "nbconvert_exporter": "python",
   "pygments_lexer": "ipython3",
   "version": "3.7.9"
  },
  "toc-autonumbering": false,
  "toc-showcode": false,
  "toc-showmarkdowntxt": false
 },
 "nbformat": 4,
 "nbformat_minor": 4
}
